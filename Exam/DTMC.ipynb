{
 "cells": [
  {
   "cell_type": "code",
   "execution_count": 1,
   "metadata": {},
   "outputs": [],
   "source": [
    "import numpy as np"
   ]
  },
  {
   "cell_type": "markdown",
   "metadata": {},
   "source": [
    "# Iteration"
   ]
  },
  {
   "cell_type": "code",
   "execution_count": 2,
   "metadata": {},
   "outputs": [],
   "source": [
    "def steady(initial, trans, itera=50):\n",
    "    steady = initial.dot(trans)\n",
    "    if itera == 0: return initial\n",
    "    for i in range(1,itera):\n",
    "        steady = steady.dot(trans)\n",
    "    return steady"
   ]
  },
  {
   "cell_type": "markdown",
   "metadata": {},
   "source": [
    "# Linear Algebra"
   ]
  },
  {
   "cell_type": "code",
   "execution_count": 3,
   "metadata": {},
   "outputs": [],
   "source": [
    "def steady_alt(trans):\n",
    "    I = np.identity(len(trans))\n",
    "    G = trans - I\n",
    "    G[:,-1] = 1\n",
    "    return I[:,-1].T.dot(np.linalg.inv(G))"
   ]
  },
  {
   "cell_type": "markdown",
   "metadata": {},
   "source": [
    "# Examples (lect-10-MC.pdf)"
   ]
  },
  {
   "cell_type": "code",
   "execution_count": 4,
   "metadata": {},
   "outputs": [
    {
     "name": "stdout",
     "output_type": "stream",
     "text": [
      "[0.9018759  0.0450938  0.02705628 0.01623377 0.00974026]\n",
      "\n",
      "[0.9018759  0.0450938  0.02705628 0.01623377 0.00974026]\n"
     ]
    }
   ],
   "source": [
    "#Question 5 (a)\n",
    "\n",
    "initial = np.array([1,0,0,0,0])\n",
    "trans = np.array([\n",
    "    [0.95,0.05,0,0,0],\n",
    "    [0.4,0,0.6,0,0],\n",
    "    [0.4,0,0,0.6,0],\n",
    "    [0.4,0,0,0,0.6],\n",
    "    [1.0,0,0,0,0]])\n",
    "\n",
    "print(steady(initial,trans))\n",
    "\n",
    "#or\n",
    "print()\n",
    "print(steady_alt(trans))"
   ]
  },
  {
   "cell_type": "code",
   "execution_count": 5,
   "metadata": {},
   "outputs": [
    {
     "name": "stdout",
     "output_type": "stream",
     "text": [
      "[0.95238095 0.04761905]\n"
     ]
    }
   ],
   "source": [
    "# Question 5 (b)\n",
    "\n",
    "trans = np.array([\n",
    "    [0.95, 0.05],\n",
    "    [1, 0]])\n",
    "print(steady_alt(trans))"
   ]
  },
  {
   "cell_type": "code",
   "execution_count": 6,
   "metadata": {},
   "outputs": [
    {
     "name": "stdout",
     "output_type": "stream",
     "text": [
      "[0.88888889 0.11111111]\n"
     ]
    }
   ],
   "source": [
    "# Question 5 (c)\n",
    "\n",
    "trans = np.array([\n",
    "    [0.95, 0.05],\n",
    "    [0.4, 0.6]])\n",
    "print(steady_alt(trans))"
   ]
  },
  {
   "cell_type": "markdown",
   "metadata": {},
   "source": [
    "Question 5 (d)\n",
    "\n",
    "$$P_n = 0.05 (0.6)^{n-2} P_1$$\n",
    "$$\\Sigma_{i=1}^n P_i = 1$$\n",
    "\n",
    "$$\\to P_1 = \\frac{1}{1+\\Sigma_{i=1}^{n-1} 0.05 (0.6)^{i-1}}$$"
   ]
  },
  {
   "cell_type": "markdown",
   "metadata": {},
   "source": [
    "Question 4 (a)\n",
    "\n",
    "Yes, it is a random process because every instance of Xn is a random variable (+1 or -1). \n",
    "\n",
    "Yes, the random process has the Markov property because the future state (amount of money) depends only on the present state."
   ]
  },
  {
   "cell_type": "code",
   "execution_count": 7,
   "metadata": {},
   "outputs": [],
   "source": [
    "# Question 5 (b)\n",
    "\n",
    "P = np.array([\n",
    "    [1,0,0,0],\n",
    "    [0.5,0,0.5,0],\n",
    "    [0,0.5,0,0.5],\n",
    "    [0,0,0,1]\n",
    "])"
   ]
  },
  {
   "cell_type": "code",
   "execution_count": 8,
   "metadata": {},
   "outputs": [],
   "source": [
    "# Question 5 (c)\n",
    "\n",
    "# print(steady_alt(P)) # LinAlgError: Singular matrix\n",
    "\n",
    "# It's reducible"
   ]
  },
  {
   "cell_type": "code",
   "execution_count": 9,
   "metadata": {},
   "outputs": [
    {
     "name": "stdout",
     "output_type": "stream",
     "text": [
      "n =  0 \t [0 1 0 0]\n",
      "\n",
      "n =  1 \t [0.5 0.  0.5 0. ]\n",
      "\n",
      "n =  2 \t [0.5  0.25 0.   0.25]\n",
      "\n",
      "n =  3 \t [0.625 0.    0.125 0.25 ]\n",
      "\n",
      "n =  4 \t [0.625  0.0625 0.     0.3125]\n",
      "\n",
      "n =  5 \t [0.65625 0.      0.03125 0.3125 ]\n",
      "\n",
      "n =  6 \t [0.65625  0.015625 0.       0.328125]\n",
      "\n",
      "n =  7 \t [0.6640625 0.        0.0078125 0.328125 ]\n",
      "\n",
      "n =  8 \t [0.6640625  0.00390625 0.         0.33203125]\n",
      "\n",
      "n =  9 \t [0.66601562 0.         0.00195312 0.33203125]\n",
      "\n"
     ]
    }
   ],
   "source": [
    "# Question 5 (d)\n",
    "\n",
    "initial = np.array([\n",
    "    0,1,0,0\n",
    "])\n",
    "\n",
    "for i in range(0,10):\n",
    "    print(\"n = \", str(i), \"\\t\", steady(initial, P, itera=i))\n",
    "    print()"
   ]
  },
  {
   "cell_type": "markdown",
   "metadata": {},
   "source": [
    "$$P_{0_k} = \\Sigma_{i=1}^{\\frac{k+1}{2}} 0.5^{2i-1} \\text{, where k is odd}$$"
   ]
  },
  {
   "cell_type": "markdown",
   "metadata": {},
   "source": [
    "Question 5 (e)\n",
    "\n",
    "$x + 2x = limt_{n\\to \\infty} \\Sigma 0.5^{n} = 2$\n",
    "\n",
    "$\\to x = \\frac{2}{3}$\n",
    "\n",
    "breaks even\n"
   ]
  },
  {
   "cell_type": "code",
   "execution_count": null,
   "metadata": {},
   "outputs": [],
   "source": []
  }
 ],
 "metadata": {
  "kernelspec": {
   "display_name": "Python 3",
   "language": "python",
   "name": "python3"
  },
  "language_info": {
   "codemirror_mode": {
    "name": "ipython",
    "version": 3
   },
   "file_extension": ".py",
   "mimetype": "text/x-python",
   "name": "python",
   "nbconvert_exporter": "python",
   "pygments_lexer": "ipython3",
   "version": "3.7.9"
  },
  "toc": {
   "base_numbering": 1,
   "nav_menu": {},
   "number_sections": true,
   "sideBar": true,
   "skip_h1_title": false,
   "title_cell": "Table of Contents",
   "title_sidebar": "Contents",
   "toc_cell": false,
   "toc_position": {},
   "toc_section_display": true,
   "toc_window_display": false
  },
  "varInspector": {
   "cols": {
    "lenName": 16,
    "lenType": 16,
    "lenVar": 40
   },
   "kernels_config": {
    "python": {
     "delete_cmd_postfix": "",
     "delete_cmd_prefix": "del ",
     "library": "var_list.py",
     "varRefreshCmd": "print(var_dic_list())"
    },
    "r": {
     "delete_cmd_postfix": ") ",
     "delete_cmd_prefix": "rm(",
     "library": "var_list.r",
     "varRefreshCmd": "cat(var_dic_list()) "
    }
   },
   "types_to_exclude": [
    "module",
    "function",
    "builtin_function_or_method",
    "instance",
    "_Feature"
   ],
   "window_display": false
  }
 },
 "nbformat": 4,
 "nbformat_minor": 4
}
