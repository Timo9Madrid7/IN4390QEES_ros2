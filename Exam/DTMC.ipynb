{
 "cells": [
  {
   "cell_type": "code",
   "execution_count": 1,
   "metadata": {},
   "outputs": [],
   "source": [
    "import numpy as np"
   ]
  },
  {
   "cell_type": "markdown",
   "metadata": {},
   "source": [
    "# Iteration"
   ]
  },
  {
   "cell_type": "code",
   "execution_count": 19,
   "metadata": {},
   "outputs": [],
   "source": [
    "def steady(initial, trans, itera=50):\n",
    "    steady = initial.dot(trans)\n",
    "    for i in range(itera):\n",
    "        steady = steady.dot(trans)\n",
    "    return steady"
   ]
  },
  {
   "cell_type": "markdown",
   "metadata": {},
   "source": [
    "# Linear Algebra"
   ]
  },
  {
   "cell_type": "code",
   "execution_count": 8,
   "metadata": {},
   "outputs": [],
   "source": [
    "def steady_alt(trans):\n",
    "    I = np.identity(len(trans))\n",
    "    G = trans - I\n",
    "    G[:,-1] = 1\n",
    "    return I[:,-1].T.dot(np.linalg.inv(G))"
   ]
  },
  {
   "cell_type": "markdown",
   "metadata": {},
   "source": [
    "# Examples (lect-10-MC.pdf)"
   ]
  },
  {
   "cell_type": "code",
   "execution_count": 17,
   "metadata": {},
   "outputs": [
    {
     "name": "stdout",
     "output_type": "stream",
     "text": [
      "[0.9018759  0.0450938  0.02705628 0.01623377 0.00974026]\n",
      "\n",
      "[0.9018759  0.0450938  0.02705628 0.01623377 0.00974026]\n"
     ]
    }
   ],
   "source": [
    "#Question 5 (a)\n",
    "\n",
    "initial = np.array([1,0,0,0,0])\n",
    "trans = np.array([\n",
    "    [0.95,0.05,0,0,0],\n",
    "    [0.4,0,0.6,0,0],\n",
    "    [0.4,0,0,0.6,0],\n",
    "    [0.4,0,0,0,0.6],\n",
    "    [1.0,0,0,0,0]])\n",
    "\n",
    "print(steady(initial,trans))\n",
    "\n",
    "#or\n",
    "print()\n",
    "print(steady_alt(trans))"
   ]
  },
  {
   "cell_type": "code",
   "execution_count": 22,
   "metadata": {},
   "outputs": [
    {
     "name": "stdout",
     "output_type": "stream",
     "text": [
      "[0.95238095 0.04761905]\n"
     ]
    }
   ],
   "source": [
    "# Question 5 (b)\n",
    "\n",
    "trans = np.array([\n",
    "    [0.95, 0.05],\n",
    "    [1, 0]])\n",
    "print(steady_alt(trans))"
   ]
  },
  {
   "cell_type": "code",
   "execution_count": 23,
   "metadata": {},
   "outputs": [
    {
     "name": "stdout",
     "output_type": "stream",
     "text": [
      "[0.88888889 0.11111111]\n"
     ]
    }
   ],
   "source": [
    "# Question 5 (c)\n",
    "\n",
    "trans = np.array([\n",
    "    [0.95, 0.05],\n",
    "    [0.4, 0.6]])\n",
    "print(steady_alt(trans))"
   ]
  },
  {
   "cell_type": "markdown",
   "metadata": {},
   "source": [
    "Question 5 (d)\n",
    "\n",
    "$$P_n = 0.05 (0.6)^{n-2} P_1$$\n",
    "$$\\Sigma_{i=1}^n P_i = 1$$\n",
    "\n",
    "$$\\to P_1 = \\frac{1}{1+\\Sigma_{i=1}^{n-1} 0.05 (0.6)^{i-1}}$$"
   ]
  },
  {
   "cell_type": "code",
   "execution_count": null,
   "metadata": {},
   "outputs": [],
   "source": []
  }
 ],
 "metadata": {
  "kernelspec": {
   "display_name": "Python 3",
   "language": "python",
   "name": "python3"
  },
  "language_info": {
   "codemirror_mode": {
    "name": "ipython",
    "version": 3
   },
   "file_extension": ".py",
   "mimetype": "text/x-python",
   "name": "python",
   "nbconvert_exporter": "python",
   "pygments_lexer": "ipython3",
   "version": "3.7.9"
  },
  "toc": {
   "base_numbering": 1,
   "nav_menu": {},
   "number_sections": true,
   "sideBar": true,
   "skip_h1_title": false,
   "title_cell": "Table of Contents",
   "title_sidebar": "Contents",
   "toc_cell": false,
   "toc_position": {},
   "toc_section_display": true,
   "toc_window_display": false
  },
  "varInspector": {
   "cols": {
    "lenName": 16,
    "lenType": 16,
    "lenVar": 40
   },
   "kernels_config": {
    "python": {
     "delete_cmd_postfix": "",
     "delete_cmd_prefix": "del ",
     "library": "var_list.py",
     "varRefreshCmd": "print(var_dic_list())"
    },
    "r": {
     "delete_cmd_postfix": ") ",
     "delete_cmd_prefix": "rm(",
     "library": "var_list.r",
     "varRefreshCmd": "cat(var_dic_list()) "
    }
   },
   "types_to_exclude": [
    "module",
    "function",
    "builtin_function_or_method",
    "instance",
    "_Feature"
   ],
   "window_display": false
  }
 },
 "nbformat": 4,
 "nbformat_minor": 4
}
