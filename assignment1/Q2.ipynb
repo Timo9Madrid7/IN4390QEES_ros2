{
 "cells": [
  {
   "cell_type": "code",
   "execution_count": 1,
   "metadata": {},
   "outputs": [],
   "source": [
    "import numpy as np\n",
    "from scipy import stats"
   ]
  },
  {
   "cell_type": "code",
   "execution_count": 2,
   "metadata": {},
   "outputs": [
    {
     "name": "stdout",
     "output_type": "stream",
     "text": [
      "data shape:  (121,) unit: ms\n",
      "degree of freedom:  120\n",
      "mean:  9.4144\n",
      "std:  1.7597\n"
     ]
    }
   ],
   "source": [
    "data = np.loadtxt(\"./q2/question2_transport_time.txt\", dtype=np.float64) * 10e3\n",
    "print(\"data shape: \", data.shape, \"unit: ms\")\n",
    "\n",
    "df = len(data) - 1 # degree of freedom\n",
    "mean = np.mean(data)\n",
    "std = np.std(data)\n",
    "\n",
    "print(\"degree of freedom: \", df)\n",
    "print(\"mean: \", np.round(mean,4))\n",
    "print(\"std: \", np.round(std,4))"
   ]
  },
  {
   "cell_type": "code",
   "execution_count": 3,
   "metadata": {},
   "outputs": [
    {
     "name": "stdout",
     "output_type": "stream",
     "text": [
      "98% t:  2.3578\n",
      "80% t:  1.2886\n"
     ]
    }
   ],
   "source": [
    "cl1 = 0.98\n",
    "cl2 = 0.80\n",
    "\n",
    "t1 = stats.t.ppf(1-(1-cl1)/2, df)\n",
    "t2 = stats.t.ppf(1-(1-cl2)/2, df)\n",
    "\n",
    "print(\"98% t: \", np.round(t1,4))\n",
    "print(\"80% t: \", np.round(t2,4))"
   ]
  },
  {
   "cell_type": "code",
   "execution_count": 4,
   "metadata": {},
   "outputs": [
    {
     "name": "stdout",
     "output_type": "stream",
     "text": [
      "98% confidence interval:  [ 9.0373 ,  9.7916 ]\n",
      "80% confidence interval:  [ 9.2083 ,  9.6206 ]\n"
     ]
    }
   ],
   "source": [
    "lower1 = mean - t1 * std/np.sqrt(df+1)\n",
    "upper1 = mean + t1 * std/np.sqrt(df+1)\n",
    "\n",
    "lower2 = mean - t2 * std/np.sqrt(df+1)\n",
    "upper2 = mean + t2 * std/np.sqrt(df+1)\n",
    "\n",
    "print(\"98% confidence interval: \", \"[\", np.round(lower1,4), \", \", np.round(upper1,4), \"]\")\n",
    "print(\"80% confidence interval: \", \"[\", np.round(lower2,4), \", \", np.round(upper2,4), \"]\")"
   ]
  },
  {
   "cell_type": "markdown",
   "metadata": {},
   "source": [
    "The default value of ddof is 1 which should be set to 0,\n",
    "as the standard error of mean is std/sqrt(n), where n is the size of data "
   ]
  },
  {
   "cell_type": "code",
   "execution_count": 5,
   "metadata": {},
   "outputs": [
    {
     "name": "stdout",
     "output_type": "stream",
     "text": [
      "98% confidence interval:  (9.037252880141434, 9.79163174795774)\n",
      "80% confidence interval:  (9.208293077673055, 9.62059155042612)\n"
     ]
    }
   ],
   "source": [
    "ci1 = stats.t.interval(0.98, df, mean, stats.sem(data,ddof=0))\n",
    "ci2 = stats.t.interval(0.80, df, mean, stats.sem(data,ddof=0))\n",
    "\n",
    "print(\"98% confidence interval: \", ci1)\n",
    "print(\"80% confidence interval: \", ci2)"
   ]
  }
 ],
 "metadata": {
  "kernelspec": {
   "display_name": "Python 3",
   "language": "python",
   "name": "python3"
  },
  "language_info": {
   "codemirror_mode": {
    "name": "ipython",
    "version": 3
   },
   "file_extension": ".py",
   "mimetype": "text/x-python",
   "name": "python",
   "nbconvert_exporter": "python",
   "pygments_lexer": "ipython3",
   "version": "3.7.9"
  },
  "toc": {
   "base_numbering": 1,
   "nav_menu": {},
   "number_sections": true,
   "sideBar": true,
   "skip_h1_title": false,
   "title_cell": "Table of Contents",
   "title_sidebar": "Contents",
   "toc_cell": false,
   "toc_position": {},
   "toc_section_display": true,
   "toc_window_display": false
  },
  "varInspector": {
   "cols": {
    "lenName": 16,
    "lenType": 16,
    "lenVar": 40
   },
   "kernels_config": {
    "python": {
     "delete_cmd_postfix": "",
     "delete_cmd_prefix": "del ",
     "library": "var_list.py",
     "varRefreshCmd": "print(var_dic_list())"
    },
    "r": {
     "delete_cmd_postfix": ") ",
     "delete_cmd_prefix": "rm(",
     "library": "var_list.r",
     "varRefreshCmd": "cat(var_dic_list()) "
    }
   },
   "types_to_exclude": [
    "module",
    "function",
    "builtin_function_or_method",
    "instance",
    "_Feature"
   ],
   "window_display": false
  }
 },
 "nbformat": 4,
 "nbformat_minor": 4
}
