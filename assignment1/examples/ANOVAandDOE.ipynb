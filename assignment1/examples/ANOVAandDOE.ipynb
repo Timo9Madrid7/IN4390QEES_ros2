{
 "cells": [
  {
   "cell_type": "markdown",
   "metadata": {},
   "source": [
    "# Introduction to This Document\n",
    "This document is a toturial for design of experiments and ANOVA test using python. This instruction consists of these parts:\n",
    "- Design of experiments in python useing pyDOE\n",
    "- Conducting t-test in python\n",
    "- One-way ANOVA test\n",
    "- Two-way ANOVA test\n",
    "\n",
    "For more details about the installation of the packages and the examples please refer to these webpages: \n",
    "\n",
    "https://pythonhosted.org/pyDOE/index.html\n",
    "\n",
    "https://pythonfordatascience.org/anova-python/\n",
    "\n",
    "https://pythonfordatascience.org/anova-2-way-n-way/\n"
   ]
  },
  {
   "cell_type": "markdown",
   "metadata": {},
   "source": [
    "# 1- Design of Experiments Using pyDOE\n",
    "\n",
    "pyDOE is a python package designed to construct experimental designs in python. However, due to some bugs in this package, the fork pyDOE2 package came to solve those issues. You need __numpy__ and __scipy__ to install this package. For more details on installation and examples, please refer to the first reference."
   ]
  },
  {
   "cell_type": "code",
   "execution_count": 1,
   "metadata": {},
   "outputs": [],
   "source": [
    "#pip install pyDOE2"
   ]
  },
  {
   "cell_type": "code",
   "execution_count": 2,
   "metadata": {},
   "outputs": [],
   "source": [
    "from pyDOE2 import *"
   ]
  },
  {
   "cell_type": "markdown",
   "metadata": {},
   "source": [
    "- __General Full-Factorial (fullfact)__\n",
    "\n",
    "This kind of design offers full flexibility as to the number of discrete levels for each factor in the design. Its usage is simple:"
   ]
  },
  {
   "cell_type": "code",
   "execution_count": 3,
   "metadata": {},
   "outputs": [
    {
     "data": {
      "text/plain": [
       "array([[0., 0.],\n",
       "       [1., 0.],\n",
       "       [0., 1.],\n",
       "       [1., 1.],\n",
       "       [0., 2.],\n",
       "       [1., 2.]])"
      ]
     },
     "execution_count": 3,
     "metadata": {},
     "output_type": "execute_result"
    }
   ],
   "source": [
    "fullfact([2,3])"
   ]
  },
  {
   "cell_type": "markdown",
   "metadata": {},
   "source": [
    "- __Level Full-Factorial (ff2n)__\n",
    "\n",
    "This function is a convenience wrapper to _fullfact_ that forces all the factors to have two levels each, you simple tell it how many factors to create a design for:"
   ]
  },
  {
   "cell_type": "code",
   "execution_count": 4,
   "metadata": {},
   "outputs": [
    {
     "data": {
      "text/plain": [
       "array([[-1., -1., -1.],\n",
       "       [ 1., -1., -1.],\n",
       "       [-1.,  1., -1.],\n",
       "       [ 1.,  1., -1.],\n",
       "       [-1., -1.,  1.],\n",
       "       [ 1., -1.,  1.],\n",
       "       [-1.,  1.,  1.],\n",
       "       [ 1.,  1.,  1.]])"
      ]
     },
     "execution_count": 4,
     "metadata": {},
     "output_type": "execute_result"
    }
   ],
   "source": [
    "ff2n(3)"
   ]
  },
  {
   "cell_type": "markdown",
   "metadata": {},
   "source": [
    "- __Level Fractional-Factorial (fracfact)__\n",
    "\n",
    "Let’s assume that we just can’t afford (for whatever reason) the number of runs in a full-factorial design. We can systematically decide on a fraction of the full-factorial by allowing some of the factor main effects to be confounded with other factor interaction effects. This is done by defining an alias structure that defines, symbolically, these interactions. These alias structures are written like “C = AB” or “I = ABC”, or “AB = CD”, etc. These define how one column is related to the others.\n",
    "\n",
    "The example below means that the factor in the third column is confounded with the interaction of the factors in the first two columns."
   ]
  },
  {
   "cell_type": "code",
   "execution_count": 5,
   "metadata": {},
   "outputs": [
    {
     "data": {
      "text/plain": [
       "array([[-1., -1.,  1.],\n",
       "       [ 1., -1., -1.],\n",
       "       [-1.,  1., -1.],\n",
       "       [ 1.,  1.,  1.]])"
      ]
     },
     "execution_count": 5,
     "metadata": {},
     "output_type": "execute_result"
    }
   ],
   "source": [
    "fracfact('a b ab')"
   ]
  },
  {
   "cell_type": "markdown",
   "metadata": {},
   "source": [
    "Fractional factorial designs are usually specified using the notation 2^(k-p), where k is the number of columns and p is the number of effects that are confounded. In terms of resolution level, higher is “better”. The above design would be considered a 2^(3-1) fractional factorial design.\n",
    "\n",
    "The following is a 2^(7-4) design:"
   ]
  },
  {
   "cell_type": "code",
   "execution_count": 6,
   "metadata": {},
   "outputs": [
    {
     "data": {
      "text/plain": [
       "array([[-1., -1.,  1., -1.,  1.,  1., -1.],\n",
       "       [ 1., -1., -1., -1., -1.,  1.,  1.],\n",
       "       [-1.,  1., -1., -1.,  1., -1.,  1.],\n",
       "       [ 1.,  1.,  1., -1., -1., -1., -1.],\n",
       "       [-1., -1.,  1.,  1., -1., -1.,  1.],\n",
       "       [ 1., -1., -1.,  1.,  1., -1., -1.],\n",
       "       [-1.,  1., -1.,  1., -1.,  1., -1.],\n",
       "       [ 1.,  1.,  1.,  1.,  1.,  1.,  1.]])"
      ]
     },
     "execution_count": 6,
     "metadata": {},
     "output_type": "execute_result"
    }
   ],
   "source": [
    " fracfact('a b ab c ac bc abc')"
   ]
  },
  {
   "cell_type": "markdown",
   "metadata": {},
   "source": [
    "In order to reduce confounding, we can utilize the _fold_ function:"
   ]
  },
  {
   "cell_type": "code",
   "execution_count": 7,
   "metadata": {},
   "outputs": [
    {
     "name": "stdout",
     "output_type": "stream",
     "text": [
      "[[-1. -1.  1.]\n",
      " [ 1. -1. -1.]\n",
      " [-1.  1. -1.]\n",
      " [ 1.  1.  1.]\n",
      " [ 1.  1. -1.]\n",
      " [-1.  1.  1.]\n",
      " [ 1. -1.  1.]\n",
      " [-1. -1. -1.]]\n"
     ]
    }
   ],
   "source": [
    "m = fracfact('a b ab')\n",
    "print(fold(m))"
   ]
  },
  {
   "cell_type": "markdown",
   "metadata": {},
   "source": [
    "Applying the fold to all columns in the design breaks the alias chains between every main factor and two-factor interactions. This means that we can then estimate all the main effects clear of any two-factor interactions. Typically, when all columns are folded, this “upgrades” the resolution of the design.\n",
    "\n",
    "By default, fold applies the level swapping to all columns, but we can _fold_ specific columns (first column = 0), if desired, by supplying an array to the keyword _columns_:"
   ]
  },
  {
   "cell_type": "code",
   "execution_count": 8,
   "metadata": {},
   "outputs": [
    {
     "data": {
      "text/plain": [
       "array([[-1., -1.,  1.],\n",
       "       [ 1., -1., -1.],\n",
       "       [-1.,  1., -1.],\n",
       "       [ 1.,  1.,  1.],\n",
       "       [-1., -1., -1.],\n",
       "       [ 1., -1.,  1.],\n",
       "       [-1.,  1.,  1.],\n",
       "       [ 1.,  1., -1.]])"
      ]
     },
     "execution_count": 8,
     "metadata": {},
     "output_type": "execute_result"
    }
   ],
   "source": [
    "fold(m, columns=[2])"
   ]
  },
  {
   "cell_type": "markdown",
   "metadata": {},
   "source": [
    "- __Plackett-Burman (pbdesign)__\n",
    "\n",
    "Another way to generate fractional-factorial designs is through the use of Plackett-Burman designs. These designs are unique in that the number of trial conditions (rows) expands by multiples of four (e.g. 4, 8, 12, etc.). The max number of columns allowed before a design increases the number of rows is always one less than the next higher multiple of four.\n",
    "\n",
    "For example, one can use up to 3 factors in a design with 4 rows:"
   ]
  },
  {
   "cell_type": "code",
   "execution_count": 9,
   "metadata": {},
   "outputs": [
    {
     "data": {
      "text/plain": [
       "array([[-1., -1.,  1.],\n",
       "       [ 1., -1., -1.],\n",
       "       [-1.,  1., -1.],\n",
       "       [ 1.,  1.,  1.]])"
      ]
     },
     "execution_count": 9,
     "metadata": {},
     "output_type": "execute_result"
    }
   ],
   "source": [
    "pbdesign(3)"
   ]
  },
  {
   "cell_type": "markdown",
   "metadata": {},
   "source": [
    "## 2- Conducting t-test in Python\n",
    "The t test (also called Student’s T Test) compares two averages (means) and tells you if they are different from each other. The t test also tells you how significant the differences are; In other words it lets you know if those differences could have happened by chance.\n",
    "\n",
    "One can calculate the t-statistic itself or use pre-defined python functions. \n",
    "\n",
    "Below you can find an example comparing the means of two randomly generated distributions using t-test. You can use the function *stats.ttest_ind* in scipy library to find t statisctics and p value directly."
   ]
  },
  {
   "cell_type": "code",
   "execution_count": 10,
   "metadata": {},
   "outputs": [
    {
     "name": "stdout",
     "output_type": "stream",
     "text": [
      "t = 4.854645580238746\n",
      "p = 0.0001272914872592068\n",
      "t = 4.854645580238746\n",
      "p = 0.00012729148725918233\n"
     ]
    }
   ],
   "source": [
    "## Import the packages\n",
    "import numpy as np\n",
    "from scipy import stats\n",
    "\n",
    "\n",
    "## Define 2 random distributions\n",
    "#Sample Size\n",
    "N = 10\n",
    "#Gaussian distributed data with mean = 2 and var = 1\n",
    "a = np.random.randn(N) + 2\n",
    "#Gaussian distributed data with with mean = 0 and var = 1\n",
    "b = np.random.randn(N)\n",
    "\n",
    "\n",
    "## Calculate the Standard Deviation\n",
    "#Calculate the variance to get the standard deviation\n",
    "\n",
    "#For unbiased max likelihood estimate we have to divide the var by N-1, and therefore the parameter ddof = 1\n",
    "var_a = a.var(ddof=1)\n",
    "var_b = b.var(ddof=1)\n",
    "\n",
    "#std deviation\n",
    "s = np.sqrt((var_a + var_b)/2)\n",
    "\n",
    "\n",
    "\n",
    "## Calculate the t-statistics\n",
    "t = (a.mean() - b.mean())/(s*np.sqrt(2/N))\n",
    "\n",
    "\n",
    "## Compare with the critical t-value\n",
    "#Degrees of freedom\n",
    "df = 2*N - 2\n",
    "\n",
    "#p-value after comparison with the t \n",
    "p = 1 - stats.t.cdf(t,df=df)\n",
    "\n",
    "\n",
    "print(\"t = \" + str(t))\n",
    "print(\"p = \" + str(2*p))\n",
    "### You can see that after comparing the t statistic with the critical t value (computed internally) we get a good p value of 0.0005 and thus we reject the null hypothesis and thus it proves that the mean of the two distributions are different and statistically significant.\n",
    "\n",
    "\n",
    "## Cross Checking with the internal scipy function\n",
    "t2, p2 = stats.ttest_ind(a,b)\n",
    "print(\"t = \" + str(t2))\n",
    "print(\"p = \" + str(p2))"
   ]
  },
  {
   "cell_type": "markdown",
   "metadata": {},
   "source": [
    "## 3- One-way ANOVA Test\n",
    "One-way ANOVA test is an extention of t-test and is used when you have more than two groups to compare the means. ANOVA test tells us if there is a difference in the mean somewhere in the model or not.\n",
    "Below you can find an example of one-way ANOVA using the dataset that is used in the lecture. The dataset cosists of three versions of an algorithm and their measured response time. Each version has been run 5 times. We want to compare the respose times and see if there is a difference between the three levels \"R\", \"V\" or \"Z\".\n"
   ]
  },
  {
   "cell_type": "code",
   "execution_count": 11,
   "metadata": {},
   "outputs": [
    {
     "name": "stdout",
     "output_type": "stream",
     "text": [
      "\n",
      "\n"
     ]
    },
    {
     "data": {
      "text/html": [
       "<div>\n",
       "<style scoped>\n",
       "    .dataframe tbody tr th:only-of-type {\n",
       "        vertical-align: middle;\n",
       "    }\n",
       "\n",
       "    .dataframe tbody tr th {\n",
       "        vertical-align: top;\n",
       "    }\n",
       "\n",
       "    .dataframe thead th {\n",
       "        text-align: right;\n",
       "    }\n",
       "</style>\n",
       "<table border=\"1\" class=\"dataframe\">\n",
       "  <thead>\n",
       "    <tr style=\"text-align: right;\">\n",
       "      <th></th>\n",
       "      <th>Variable</th>\n",
       "      <th>N</th>\n",
       "      <th>Mean</th>\n",
       "      <th>SD</th>\n",
       "      <th>SE</th>\n",
       "      <th>95% Conf.</th>\n",
       "      <th>Interval</th>\n",
       "    </tr>\n",
       "  </thead>\n",
       "  <tbody>\n",
       "    <tr>\n",
       "      <th>0</th>\n",
       "      <td>Response</td>\n",
       "      <td>15.0</td>\n",
       "      <td>187.6667</td>\n",
       "      <td>86.7498</td>\n",
       "      <td>22.3987</td>\n",
       "      <td>139.6262</td>\n",
       "      <td>235.7071</td>\n",
       "    </tr>\n",
       "  </tbody>\n",
       "</table>\n",
       "</div>"
      ],
      "text/plain": [
       "   Variable     N      Mean       SD       SE  95% Conf.  Interval\n",
       "0  Response  15.0  187.6667  86.7498  22.3987   139.6262  235.7071"
      ]
     },
     "execution_count": 11,
     "metadata": {},
     "output_type": "execute_result"
    }
   ],
   "source": [
    "import pandas as pd\n",
    "import numpy as np\n",
    "import scipy.stats as stats\n",
    "import researchpy as rp\n",
    "import statsmodels.api as sm\n",
    "from statsmodels.formula.api import ols\n",
    "    \n",
    "import matplotlib.pyplot as plt\n",
    "\n",
    "# Loading data\n",
    "algorithm = ['R', 'V', 'Z']\n",
    "d = {'Group': np.repeat(algorithm,5), 'Response': [144, 120, 176, 288, 144, 101, 144, 211, 288, 72, 130, 180, 141, 374, 302]}\n",
    "df = pd.DataFrame(data=d)\n",
    "\n",
    "# Gettin summary statistics\n",
    "rp.summary_cont(df['Response'])"
   ]
  },
  {
   "cell_type": "code",
   "execution_count": 12,
   "metadata": {},
   "outputs": [
    {
     "name": "stdout",
     "output_type": "stream",
     "text": [
      "\n",
      "\n"
     ]
    },
    {
     "data": {
      "text/html": [
       "<div>\n",
       "<style scoped>\n",
       "    .dataframe tbody tr th:only-of-type {\n",
       "        vertical-align: middle;\n",
       "    }\n",
       "\n",
       "    .dataframe tbody tr th {\n",
       "        vertical-align: top;\n",
       "    }\n",
       "\n",
       "    .dataframe thead th {\n",
       "        text-align: right;\n",
       "    }\n",
       "</style>\n",
       "<table border=\"1\" class=\"dataframe\">\n",
       "  <thead>\n",
       "    <tr style=\"text-align: right;\">\n",
       "      <th></th>\n",
       "      <th>N</th>\n",
       "      <th>Mean</th>\n",
       "      <th>SD</th>\n",
       "      <th>SE</th>\n",
       "      <th>95% Conf.</th>\n",
       "      <th>Interval</th>\n",
       "    </tr>\n",
       "    <tr>\n",
       "      <th>Group</th>\n",
       "      <th></th>\n",
       "      <th></th>\n",
       "      <th></th>\n",
       "      <th></th>\n",
       "      <th></th>\n",
       "      <th></th>\n",
       "    </tr>\n",
       "  </thead>\n",
       "  <tbody>\n",
       "    <tr>\n",
       "      <th>R</th>\n",
       "      <td>5</td>\n",
       "      <td>174.4</td>\n",
       "      <td>66.5492</td>\n",
       "      <td>29.7617</td>\n",
       "      <td>91.7682</td>\n",
       "      <td>257.0318</td>\n",
       "    </tr>\n",
       "    <tr>\n",
       "      <th>V</th>\n",
       "      <td>5</td>\n",
       "      <td>163.2</td>\n",
       "      <td>87.1992</td>\n",
       "      <td>38.9967</td>\n",
       "      <td>54.9279</td>\n",
       "      <td>271.4721</td>\n",
       "    </tr>\n",
       "    <tr>\n",
       "      <th>Z</th>\n",
       "      <td>5</td>\n",
       "      <td>225.4</td>\n",
       "      <td>107.5119</td>\n",
       "      <td>48.0808</td>\n",
       "      <td>91.9064</td>\n",
       "      <td>358.8936</td>\n",
       "    </tr>\n",
       "  </tbody>\n",
       "</table>\n",
       "</div>"
      ],
      "text/plain": [
       "       N   Mean        SD       SE  95% Conf.  Interval\n",
       "Group                                                  \n",
       "R      5  174.4   66.5492  29.7617    91.7682  257.0318\n",
       "V      5  163.2   87.1992  38.9967    54.9279  271.4721\n",
       "Z      5  225.4  107.5119  48.0808    91.9064  358.8936"
      ]
     },
     "execution_count": 12,
     "metadata": {},
     "output_type": "execute_result"
    }
   ],
   "source": [
    "# Summary based on algorithm type\n",
    "rp.summary_cont(df['Response'].groupby(df['Group']))"
   ]
  },
  {
   "cell_type": "markdown",
   "metadata": {},
   "source": [
    "- Now we want to conduct a statistical test to see if there is a difference in the means of lidibo for these three doses of the drug. Since the independent variable has more than two categories, we have to use ANOVA test to compare the means. \n",
    "- We can do this test in python using *stats.f_oneway()* method which is apart of the scipy.stats library."
   ]
  },
  {
   "cell_type": "code",
   "execution_count": 13,
   "metadata": {},
   "outputs": [
    {
     "data": {
      "text/plain": [
       "F_onewayResult(statistic=0.6989101914688891, pvalue=0.5162767522588427)"
      ]
     },
     "execution_count": 13,
     "metadata": {},
     "output_type": "execute_result"
    }
   ],
   "source": [
    "# stats.f_oneway(data_group1, data_group2, data_group3, data_groupN)\n",
    "stats.f_oneway(df['Response'][df['Group'] == 'R'], \n",
    "             df['Response'][df['Group'] == 'V'],\n",
    "             df['Response'][df['Group'] == 'Z'])"
   ]
  },
  {
   "cell_type": "markdown",
   "metadata": {},
   "source": [
    "- The other way is using statmodels which provides more information about the model."
   ]
  },
  {
   "cell_type": "code",
   "execution_count": 14,
   "metadata": {},
   "outputs": [
    {
     "name": "stderr",
     "output_type": "stream",
     "text": [
      "D:\\Programmer\\Anaconda\\lib\\site-packages\\scipy\\stats\\stats.py:1604: UserWarning: kurtosistest only valid for n>=20 ... continuing anyway, n=15\n",
      "  \"anyway, n=%i\" % int(n))\n"
     ]
    },
    {
     "data": {
      "text/html": [
       "<table class=\"simpletable\">\n",
       "<caption>OLS Regression Results</caption>\n",
       "<tr>\n",
       "  <th>Dep. Variable:</th>        <td>Response</td>     <th>  R-squared:         </th> <td>   0.104</td>\n",
       "</tr>\n",
       "<tr>\n",
       "  <th>Model:</th>                   <td>OLS</td>       <th>  Adj. R-squared:    </th> <td>  -0.045</td>\n",
       "</tr>\n",
       "<tr>\n",
       "  <th>Method:</th>             <td>Least Squares</td>  <th>  F-statistic:       </th> <td>  0.6989</td>\n",
       "</tr>\n",
       "<tr>\n",
       "  <th>Date:</th>             <td>Sun, 22 Nov 2020</td> <th>  Prob (F-statistic):</th>  <td> 0.516</td> \n",
       "</tr>\n",
       "<tr>\n",
       "  <th>Time:</th>                 <td>20:01:47</td>     <th>  Log-Likelihood:    </th> <td> -86.886</td>\n",
       "</tr>\n",
       "<tr>\n",
       "  <th>No. Observations:</th>      <td>    15</td>      <th>  AIC:               </th> <td>   179.8</td>\n",
       "</tr>\n",
       "<tr>\n",
       "  <th>Df Residuals:</th>          <td>    12</td>      <th>  BIC:               </th> <td>   181.9</td>\n",
       "</tr>\n",
       "<tr>\n",
       "  <th>Df Model:</th>              <td>     2</td>      <th>                     </th>     <td> </td>   \n",
       "</tr>\n",
       "<tr>\n",
       "  <th>Covariance Type:</th>      <td>nonrobust</td>    <th>                     </th>     <td> </td>   \n",
       "</tr>\n",
       "</table>\n",
       "<table class=\"simpletable\">\n",
       "<tr>\n",
       "        <td></td>           <th>coef</th>     <th>std err</th>      <th>t</th>      <th>P>|t|</th>  <th>[0.025</th>    <th>0.975]</th>  \n",
       "</tr>\n",
       "<tr>\n",
       "  <th>Intercept</th>     <td>  174.4000</td> <td>   39.658</td> <td>    4.398</td> <td> 0.001</td> <td>   87.993</td> <td>  260.807</td>\n",
       "</tr>\n",
       "<tr>\n",
       "  <th>C(Group)[T.V]</th> <td>  -11.2000</td> <td>   56.085</td> <td>   -0.200</td> <td> 0.845</td> <td> -133.398</td> <td>  110.998</td>\n",
       "</tr>\n",
       "<tr>\n",
       "  <th>C(Group)[T.Z]</th> <td>   51.0000</td> <td>   56.085</td> <td>    0.909</td> <td> 0.381</td> <td>  -71.198</td> <td>  173.198</td>\n",
       "</tr>\n",
       "</table>\n",
       "<table class=\"simpletable\">\n",
       "<tr>\n",
       "  <th>Omnibus:</th>       <td> 2.253</td> <th>  Durbin-Watson:     </th> <td>   1.700</td>\n",
       "</tr>\n",
       "<tr>\n",
       "  <th>Prob(Omnibus):</th> <td> 0.324</td> <th>  Jarque-Bera (JB):  </th> <td>   1.553</td>\n",
       "</tr>\n",
       "<tr>\n",
       "  <th>Skew:</th>          <td> 0.596</td> <th>  Prob(JB):          </th> <td>   0.460</td>\n",
       "</tr>\n",
       "<tr>\n",
       "  <th>Kurtosis:</th>      <td> 1.969</td> <th>  Cond. No.          </th> <td>    3.73</td>\n",
       "</tr>\n",
       "</table><br/><br/>Notes:<br/>[1] Standard Errors assume that the covariance matrix of the errors is correctly specified."
      ],
      "text/plain": [
       "<class 'statsmodels.iolib.summary.Summary'>\n",
       "\"\"\"\n",
       "                            OLS Regression Results                            \n",
       "==============================================================================\n",
       "Dep. Variable:               Response   R-squared:                       0.104\n",
       "Model:                            OLS   Adj. R-squared:                 -0.045\n",
       "Method:                 Least Squares   F-statistic:                    0.6989\n",
       "Date:                Sun, 22 Nov 2020   Prob (F-statistic):              0.516\n",
       "Time:                        20:01:47   Log-Likelihood:                -86.886\n",
       "No. Observations:                  15   AIC:                             179.8\n",
       "Df Residuals:                      12   BIC:                             181.9\n",
       "Df Model:                           2                                         \n",
       "Covariance Type:            nonrobust                                         \n",
       "=================================================================================\n",
       "                    coef    std err          t      P>|t|      [0.025      0.975]\n",
       "---------------------------------------------------------------------------------\n",
       "Intercept       174.4000     39.658      4.398      0.001      87.993     260.807\n",
       "C(Group)[T.V]   -11.2000     56.085     -0.200      0.845    -133.398     110.998\n",
       "C(Group)[T.Z]    51.0000     56.085      0.909      0.381     -71.198     173.198\n",
       "==============================================================================\n",
       "Omnibus:                        2.253   Durbin-Watson:                   1.700\n",
       "Prob(Omnibus):                  0.324   Jarque-Bera (JB):                1.553\n",
       "Skew:                           0.596   Prob(JB):                        0.460\n",
       "Kurtosis:                       1.969   Cond. No.                         3.73\n",
       "==============================================================================\n",
       "\n",
       "Notes:\n",
       "[1] Standard Errors assume that the covariance matrix of the errors is correctly specified.\n",
       "\"\"\""
      ]
     },
     "execution_count": 14,
     "metadata": {},
     "output_type": "execute_result"
    }
   ],
   "source": [
    "# model_name = ols('outcome_variable ~ C(group_variable)', data=your_data).fit()\n",
    "results = ols('Response ~ C(Group)', data=df).fit()\n",
    "results.summary()"
   ]
  },
  {
   "cell_type": "markdown",
   "metadata": {},
   "source": [
    "- You can use the following code to see the ANOVA table: "
   ]
  },
  {
   "cell_type": "code",
   "execution_count": 15,
   "metadata": {},
   "outputs": [
    {
     "data": {
      "text/html": [
       "<div>\n",
       "<style scoped>\n",
       "    .dataframe tbody tr th:only-of-type {\n",
       "        vertical-align: middle;\n",
       "    }\n",
       "\n",
       "    .dataframe tbody tr th {\n",
       "        vertical-align: top;\n",
       "    }\n",
       "\n",
       "    .dataframe thead th {\n",
       "        text-align: right;\n",
       "    }\n",
       "</style>\n",
       "<table border=\"1\" class=\"dataframe\">\n",
       "  <thead>\n",
       "    <tr style=\"text-align: right;\">\n",
       "      <th></th>\n",
       "      <th>sum_sq</th>\n",
       "      <th>df</th>\n",
       "      <th>F</th>\n",
       "      <th>PR(&gt;F)</th>\n",
       "    </tr>\n",
       "  </thead>\n",
       "  <tbody>\n",
       "    <tr>\n",
       "      <th>C(Group)</th>\n",
       "      <td>10992.133333</td>\n",
       "      <td>2.0</td>\n",
       "      <td>0.69891</td>\n",
       "      <td>0.516277</td>\n",
       "    </tr>\n",
       "    <tr>\n",
       "      <th>Residual</th>\n",
       "      <td>94365.200000</td>\n",
       "      <td>12.0</td>\n",
       "      <td>NaN</td>\n",
       "      <td>NaN</td>\n",
       "    </tr>\n",
       "  </tbody>\n",
       "</table>\n",
       "</div>"
      ],
      "text/plain": [
       "                sum_sq    df        F    PR(>F)\n",
       "C(Group)  10992.133333   2.0  0.69891  0.516277\n",
       "Residual  94365.200000  12.0      NaN       NaN"
      ]
     },
     "execution_count": 15,
     "metadata": {},
     "output_type": "execute_result"
    }
   ],
   "source": [
    "aov_table = sm.stats.anova_lm(results, typ=2)\n",
    "aov_table"
   ]
  },
  {
   "cell_type": "markdown",
   "metadata": {},
   "source": [
    "# Further Learning\n",
    "To calculate the model effect size, check the assumptions for ANOVA test and conduct the post-hoc test you can refer to the second reference mentioned in the introduction of this document."
   ]
  },
  {
   "cell_type": "markdown",
   "metadata": {},
   "source": [
    "# 4- Two-way (N-way) ANOVA\n",
    "A one-way ANOVA should be used if you have 1 categorical independent variable (IV) with 3+ categories or groups, and 1 continuous dependent variable (DV); this is a 1 factor design.\n",
    "\n",
    "The two-way ANOVA is an extension to the one-way ANOVA and should be used if you have 2 categorical IVs with 2+ groups, and 1 continuous DV; this is a multi-factor design, specifically a 2 factor design. It’s a 2 factor design, because there are 2 IVs. In the ANOVA framework, IVs are often called factors and each category/group within an IV is called a level. Just as with a one-way ANOVA, a two-way ANOVA tests if there is a difference between the means, but it does not tell which groups differ. To get this information, one has to conduct post-hoc testing."
   ]
  },
  {
   "cell_type": "markdown",
   "metadata": {},
   "source": [
    "Below you can find an example that uses the dataset used in the lecture. The data shows the impact of workloads and processors on code size. There are five workloads 'I', 'J', 'K', 'L', 'W' and four processors 'W', 'X', 'Y' and 'Z'. We use the log transformation of the code size here."
   ]
  },
  {
   "cell_type": "code",
   "execution_count": 2,
   "metadata": {},
   "outputs": [],
   "source": [
    "import pandas as pd\n",
    "import researchpy as rp\n",
    "import seaborn as sns\n",
    "import numpy as np\n",
    "\n",
    "import statsmodels.api as sm\n",
    "from statsmodels.formula.api import ols\n",
    "import statsmodels.stats.multicomp\n",
    "\n",
    "code_size = [3.8455, 3.8191, 3.8634, 3.5061, 3.4598, 3.5469, 3.6727, 3.6933, 3.6498, 3.7082, 3.7410, 3.6761, 3.8330, 3.8056, 3.8578,\n",
    "            4.0807, 4.0717, 4.1164, 3.7095, 3.7507, 3.6635, 3.9735, 3.9510, 3.9984, 3.7492, 3.7743, 3.7127, 4.0879, 4.0790, 4.1131,\n",
    "            4.4633, 4.4321, 4.4779, 3.9523, 3.9066, 3.9857, 4.2953, 4.2866, 4.3247, 4.3491, 4.3636, 4.3313, 4.4558, 4.4289, 4.4851,\n",
    "            3.9958, 3.9641, 4.0015, 3.6184, 3.6291, 3.6091, 3.8506, 3.8440, 3.8246, 3.7288, 3.7585, 3.6959, 3.9914, 3.9688, 4.0100]\n",
    "df = pd.DataFrame({'Code_Size': code_size,\n",
    "                   'Processors': np.repeat(['W', 'X', 'Y', 'Z'], 15),\n",
    "                   'Workloads': np.r_[np.repeat(['I', 'J', 'K', 'L', 'W'],3),\n",
    "                                      np.repeat(['I', 'J', 'K', 'L', 'W'],3),\n",
    "                                      np.repeat(['I', 'J', 'K', 'L', 'W'],3),\n",
    "                                      np.repeat(['I', 'J', 'K', 'L', 'W'],3)]})\n"
   ]
  },
  {
   "cell_type": "code",
   "execution_count": 17,
   "metadata": {},
   "outputs": [
    {
     "name": "stdout",
     "output_type": "stream",
     "text": [
      "\n",
      "\n"
     ]
    },
    {
     "data": {
      "text/html": [
       "<div>\n",
       "<style scoped>\n",
       "    .dataframe tbody tr th:only-of-type {\n",
       "        vertical-align: middle;\n",
       "    }\n",
       "\n",
       "    .dataframe tbody tr th {\n",
       "        vertical-align: top;\n",
       "    }\n",
       "\n",
       "    .dataframe thead th {\n",
       "        text-align: right;\n",
       "    }\n",
       "</style>\n",
       "<table border=\"1\" class=\"dataframe\">\n",
       "  <thead>\n",
       "    <tr style=\"text-align: right;\">\n",
       "      <th></th>\n",
       "      <th></th>\n",
       "      <th>N</th>\n",
       "      <th>Mean</th>\n",
       "      <th>SD</th>\n",
       "      <th>SE</th>\n",
       "      <th>95% Conf.</th>\n",
       "      <th>Interval</th>\n",
       "    </tr>\n",
       "    <tr>\n",
       "      <th>Processors</th>\n",
       "      <th>Workloads</th>\n",
       "      <th></th>\n",
       "      <th></th>\n",
       "      <th></th>\n",
       "      <th></th>\n",
       "      <th></th>\n",
       "      <th></th>\n",
       "    </tr>\n",
       "  </thead>\n",
       "  <tbody>\n",
       "    <tr>\n",
       "      <th rowspan=\"5\" valign=\"top\">W</th>\n",
       "      <th>I</th>\n",
       "      <td>3</td>\n",
       "      <td>3.8427</td>\n",
       "      <td>0.0223</td>\n",
       "      <td>0.0129</td>\n",
       "      <td>3.7873</td>\n",
       "      <td>3.8980</td>\n",
       "    </tr>\n",
       "    <tr>\n",
       "      <th>J</th>\n",
       "      <td>3</td>\n",
       "      <td>3.5043</td>\n",
       "      <td>0.0436</td>\n",
       "      <td>0.0252</td>\n",
       "      <td>3.3960</td>\n",
       "      <td>3.6125</td>\n",
       "    </tr>\n",
       "    <tr>\n",
       "      <th>K</th>\n",
       "      <td>3</td>\n",
       "      <td>3.6719</td>\n",
       "      <td>0.0218</td>\n",
       "      <td>0.0126</td>\n",
       "      <td>3.6179</td>\n",
       "      <td>3.7260</td>\n",
       "    </tr>\n",
       "    <tr>\n",
       "      <th>L</th>\n",
       "      <td>3</td>\n",
       "      <td>3.7084</td>\n",
       "      <td>0.0325</td>\n",
       "      <td>0.0187</td>\n",
       "      <td>3.6278</td>\n",
       "      <td>3.7890</td>\n",
       "    </tr>\n",
       "    <tr>\n",
       "      <th>W</th>\n",
       "      <td>3</td>\n",
       "      <td>3.8321</td>\n",
       "      <td>0.0261</td>\n",
       "      <td>0.0151</td>\n",
       "      <td>3.7673</td>\n",
       "      <td>3.8970</td>\n",
       "    </tr>\n",
       "    <tr>\n",
       "      <th rowspan=\"5\" valign=\"top\">X</th>\n",
       "      <th>I</th>\n",
       "      <td>3</td>\n",
       "      <td>4.0896</td>\n",
       "      <td>0.0236</td>\n",
       "      <td>0.0136</td>\n",
       "      <td>4.0309</td>\n",
       "      <td>4.1483</td>\n",
       "    </tr>\n",
       "    <tr>\n",
       "      <th>J</th>\n",
       "      <td>3</td>\n",
       "      <td>3.7079</td>\n",
       "      <td>0.0436</td>\n",
       "      <td>0.0252</td>\n",
       "      <td>3.5995</td>\n",
       "      <td>3.8163</td>\n",
       "    </tr>\n",
       "    <tr>\n",
       "      <th>K</th>\n",
       "      <td>3</td>\n",
       "      <td>3.9743</td>\n",
       "      <td>0.0237</td>\n",
       "      <td>0.0137</td>\n",
       "      <td>3.9154</td>\n",
       "      <td>4.0332</td>\n",
       "    </tr>\n",
       "    <tr>\n",
       "      <th>L</th>\n",
       "      <td>3</td>\n",
       "      <td>3.7454</td>\n",
       "      <td>0.0310</td>\n",
       "      <td>0.0179</td>\n",
       "      <td>3.6685</td>\n",
       "      <td>3.8223</td>\n",
       "    </tr>\n",
       "    <tr>\n",
       "      <th>W</th>\n",
       "      <td>3</td>\n",
       "      <td>4.0933</td>\n",
       "      <td>0.0177</td>\n",
       "      <td>0.0102</td>\n",
       "      <td>4.0494</td>\n",
       "      <td>4.1373</td>\n",
       "    </tr>\n",
       "    <tr>\n",
       "      <th rowspan=\"5\" valign=\"top\">Y</th>\n",
       "      <th>I</th>\n",
       "      <td>3</td>\n",
       "      <td>4.4578</td>\n",
       "      <td>0.0234</td>\n",
       "      <td>0.0135</td>\n",
       "      <td>4.3996</td>\n",
       "      <td>4.5159</td>\n",
       "    </tr>\n",
       "    <tr>\n",
       "      <th>J</th>\n",
       "      <td>3</td>\n",
       "      <td>3.9482</td>\n",
       "      <td>0.0397</td>\n",
       "      <td>0.0229</td>\n",
       "      <td>3.8496</td>\n",
       "      <td>4.0468</td>\n",
       "    </tr>\n",
       "    <tr>\n",
       "      <th>K</th>\n",
       "      <td>3</td>\n",
       "      <td>4.3022</td>\n",
       "      <td>0.0200</td>\n",
       "      <td>0.0115</td>\n",
       "      <td>4.2526</td>\n",
       "      <td>4.3518</td>\n",
       "    </tr>\n",
       "    <tr>\n",
       "      <th>L</th>\n",
       "      <td>3</td>\n",
       "      <td>4.3480</td>\n",
       "      <td>0.0162</td>\n",
       "      <td>0.0093</td>\n",
       "      <td>4.3078</td>\n",
       "      <td>4.3882</td>\n",
       "    </tr>\n",
       "    <tr>\n",
       "      <th>W</th>\n",
       "      <td>3</td>\n",
       "      <td>4.4566</td>\n",
       "      <td>0.0281</td>\n",
       "      <td>0.0162</td>\n",
       "      <td>4.3868</td>\n",
       "      <td>4.5264</td>\n",
       "    </tr>\n",
       "    <tr>\n",
       "      <th rowspan=\"5\" valign=\"top\">Z</th>\n",
       "      <th>I</th>\n",
       "      <td>3</td>\n",
       "      <td>3.9871</td>\n",
       "      <td>0.0202</td>\n",
       "      <td>0.0116</td>\n",
       "      <td>3.9371</td>\n",
       "      <td>4.0372</td>\n",
       "    </tr>\n",
       "    <tr>\n",
       "      <th>J</th>\n",
       "      <td>3</td>\n",
       "      <td>3.6189</td>\n",
       "      <td>0.0100</td>\n",
       "      <td>0.0058</td>\n",
       "      <td>3.5940</td>\n",
       "      <td>3.6437</td>\n",
       "    </tr>\n",
       "    <tr>\n",
       "      <th>K</th>\n",
       "      <td>3</td>\n",
       "      <td>3.8397</td>\n",
       "      <td>0.0135</td>\n",
       "      <td>0.0078</td>\n",
       "      <td>3.8062</td>\n",
       "      <td>3.8733</td>\n",
       "    </tr>\n",
       "    <tr>\n",
       "      <th>L</th>\n",
       "      <td>3</td>\n",
       "      <td>3.7277</td>\n",
       "      <td>0.0313</td>\n",
       "      <td>0.0181</td>\n",
       "      <td>3.6499</td>\n",
       "      <td>3.8055</td>\n",
       "    </tr>\n",
       "    <tr>\n",
       "      <th>W</th>\n",
       "      <td>3</td>\n",
       "      <td>3.9901</td>\n",
       "      <td>0.0206</td>\n",
       "      <td>0.0119</td>\n",
       "      <td>3.9388</td>\n",
       "      <td>4.0413</td>\n",
       "    </tr>\n",
       "  </tbody>\n",
       "</table>\n",
       "</div>"
      ],
      "text/plain": [
       "                      N    Mean      SD      SE  95% Conf.  Interval\n",
       "Processors Workloads                                                \n",
       "W          I          3  3.8427  0.0223  0.0129     3.7873    3.8980\n",
       "           J          3  3.5043  0.0436  0.0252     3.3960    3.6125\n",
       "           K          3  3.6719  0.0218  0.0126     3.6179    3.7260\n",
       "           L          3  3.7084  0.0325  0.0187     3.6278    3.7890\n",
       "           W          3  3.8321  0.0261  0.0151     3.7673    3.8970\n",
       "X          I          3  4.0896  0.0236  0.0136     4.0309    4.1483\n",
       "           J          3  3.7079  0.0436  0.0252     3.5995    3.8163\n",
       "           K          3  3.9743  0.0237  0.0137     3.9154    4.0332\n",
       "           L          3  3.7454  0.0310  0.0179     3.6685    3.8223\n",
       "           W          3  4.0933  0.0177  0.0102     4.0494    4.1373\n",
       "Y          I          3  4.4578  0.0234  0.0135     4.3996    4.5159\n",
       "           J          3  3.9482  0.0397  0.0229     3.8496    4.0468\n",
       "           K          3  4.3022  0.0200  0.0115     4.2526    4.3518\n",
       "           L          3  4.3480  0.0162  0.0093     4.3078    4.3882\n",
       "           W          3  4.4566  0.0281  0.0162     4.3868    4.5264\n",
       "Z          I          3  3.9871  0.0202  0.0116     3.9371    4.0372\n",
       "           J          3  3.6189  0.0100  0.0058     3.5940    3.6437\n",
       "           K          3  3.8397  0.0135  0.0078     3.8062    3.8733\n",
       "           L          3  3.7277  0.0313  0.0181     3.6499    3.8055\n",
       "           W          3  3.9901  0.0206  0.0119     3.9388    4.0413"
      ]
     },
     "execution_count": 17,
     "metadata": {},
     "output_type": "execute_result"
    }
   ],
   "source": [
    "rp.summary_cont(df.groupby(['Processors', 'Workloads']))['Code_Size']"
   ]
  },
  {
   "cell_type": "code",
   "execution_count": 18,
   "metadata": {},
   "outputs": [
    {
     "data": {
      "text/html": [
       "<div>\n",
       "<style scoped>\n",
       "    .dataframe tbody tr th:only-of-type {\n",
       "        vertical-align: middle;\n",
       "    }\n",
       "\n",
       "    .dataframe tbody tr th {\n",
       "        vertical-align: top;\n",
       "    }\n",
       "\n",
       "    .dataframe thead th {\n",
       "        text-align: right;\n",
       "    }\n",
       "</style>\n",
       "<table border=\"1\" class=\"dataframe\">\n",
       "  <thead>\n",
       "    <tr style=\"text-align: right;\">\n",
       "      <th></th>\n",
       "      <th>Code_Size</th>\n",
       "      <th>Processors</th>\n",
       "      <th>Workloads</th>\n",
       "    </tr>\n",
       "  </thead>\n",
       "  <tbody>\n",
       "    <tr>\n",
       "      <th>0</th>\n",
       "      <td>3.8455</td>\n",
       "      <td>W</td>\n",
       "      <td>I</td>\n",
       "    </tr>\n",
       "    <tr>\n",
       "      <th>1</th>\n",
       "      <td>3.8191</td>\n",
       "      <td>W</td>\n",
       "      <td>I</td>\n",
       "    </tr>\n",
       "    <tr>\n",
       "      <th>2</th>\n",
       "      <td>3.8634</td>\n",
       "      <td>W</td>\n",
       "      <td>I</td>\n",
       "    </tr>\n",
       "    <tr>\n",
       "      <th>3</th>\n",
       "      <td>3.5061</td>\n",
       "      <td>W</td>\n",
       "      <td>J</td>\n",
       "    </tr>\n",
       "    <tr>\n",
       "      <th>4</th>\n",
       "      <td>3.4598</td>\n",
       "      <td>W</td>\n",
       "      <td>J</td>\n",
       "    </tr>\n",
       "  </tbody>\n",
       "</table>\n",
       "</div>"
      ],
      "text/plain": [
       "   Code_Size Processors Workloads\n",
       "0     3.8455          W         I\n",
       "1     3.8191          W         I\n",
       "2     3.8634          W         I\n",
       "3     3.5061          W         J\n",
       "4     3.4598          W         J"
      ]
     },
     "execution_count": 18,
     "metadata": {},
     "output_type": "execute_result"
    }
   ],
   "source": [
    "df.head()"
   ]
  },
  {
   "cell_type": "code",
   "execution_count": 19,
   "metadata": {},
   "outputs": [
    {
     "name": "stdout",
     "output_type": "stream",
     "text": [
      "Overall model F( 19, 40) =  318.779, p =  0.0000\n"
     ]
    }
   ],
   "source": [
    "model = ols('Code_Size ~ C(Processors)*C(Workloads)', df).fit()\n",
    "\n",
    "# Seeing if the overall model is significant\n",
    "print(f\"Overall model F({model.df_model: .0f},{model.df_resid: .0f}) = {model.fvalue: .3f}, p = {model.f_pvalue: .4f}\")"
   ]
  },
  {
   "cell_type": "code",
   "execution_count": 20,
   "metadata": {},
   "outputs": [
    {
     "data": {
      "text/html": [
       "<table class=\"simpletable\">\n",
       "<caption>OLS Regression Results</caption>\n",
       "<tr>\n",
       "  <th>Dep. Variable:</th>        <td>Code_Size</td>    <th>  R-squared:         </th> <td>   0.993</td>\n",
       "</tr>\n",
       "<tr>\n",
       "  <th>Model:</th>                   <td>OLS</td>       <th>  Adj. R-squared:    </th> <td>   0.990</td>\n",
       "</tr>\n",
       "<tr>\n",
       "  <th>Method:</th>             <td>Least Squares</td>  <th>  F-statistic:       </th> <td>   318.8</td>\n",
       "</tr>\n",
       "<tr>\n",
       "  <th>Date:</th>             <td>Sun, 22 Nov 2020</td> <th>  Prob (F-statistic):</th> <td>1.17e-37</td>\n",
       "</tr>\n",
       "<tr>\n",
       "  <th>Time:</th>                 <td>20:01:47</td>     <th>  Log-Likelihood:    </th> <td>  143.76</td>\n",
       "</tr>\n",
       "<tr>\n",
       "  <th>No. Observations:</th>      <td>    60</td>      <th>  AIC:               </th> <td>  -247.5</td>\n",
       "</tr>\n",
       "<tr>\n",
       "  <th>Df Residuals:</th>          <td>    40</td>      <th>  BIC:               </th> <td>  -205.6</td>\n",
       "</tr>\n",
       "<tr>\n",
       "  <th>Df Model:</th>              <td>    19</td>      <th>                     </th>     <td> </td>   \n",
       "</tr>\n",
       "<tr>\n",
       "  <th>Covariance Type:</th>      <td>nonrobust</td>    <th>                     </th>     <td> </td>   \n",
       "</tr>\n",
       "</table>\n",
       "<table class=\"simpletable\">\n",
       "<tr>\n",
       "                    <td></td>                      <th>coef</th>     <th>std err</th>      <th>t</th>      <th>P>|t|</th>  <th>[0.025</th>    <th>0.975]</th>  \n",
       "</tr>\n",
       "<tr>\n",
       "  <th>Intercept</th>                            <td>    3.8427</td> <td>    0.016</td> <td>  246.591</td> <td> 0.000</td> <td>    3.811</td> <td>    3.874</td>\n",
       "</tr>\n",
       "<tr>\n",
       "  <th>C(Processors)[T.X]</th>                   <td>    0.2469</td> <td>    0.022</td> <td>   11.205</td> <td> 0.000</td> <td>    0.202</td> <td>    0.291</td>\n",
       "</tr>\n",
       "<tr>\n",
       "  <th>C(Processors)[T.Y]</th>                   <td>    0.6151</td> <td>    0.022</td> <td>   27.911</td> <td> 0.000</td> <td>    0.571</td> <td>    0.660</td>\n",
       "</tr>\n",
       "<tr>\n",
       "  <th>C(Processors)[T.Z]</th>                   <td>    0.1445</td> <td>    0.022</td> <td>    6.555</td> <td> 0.000</td> <td>    0.100</td> <td>    0.189</td>\n",
       "</tr>\n",
       "<tr>\n",
       "  <th>C(Workloads)[T.J]</th>                    <td>   -0.3384</td> <td>    0.022</td> <td>  -15.355</td> <td> 0.000</td> <td>   -0.383</td> <td>   -0.294</td>\n",
       "</tr>\n",
       "<tr>\n",
       "  <th>C(Workloads)[T.K]</th>                    <td>   -0.1707</td> <td>    0.022</td> <td>   -7.747</td> <td> 0.000</td> <td>   -0.215</td> <td>   -0.126</td>\n",
       "</tr>\n",
       "<tr>\n",
       "  <th>C(Workloads)[T.L]</th>                    <td>   -0.1342</td> <td>    0.022</td> <td>   -6.091</td> <td> 0.000</td> <td>   -0.179</td> <td>   -0.090</td>\n",
       "</tr>\n",
       "<tr>\n",
       "  <th>C(Workloads)[T.W]</th>                    <td>   -0.0105</td> <td>    0.022</td> <td>   -0.478</td> <td> 0.635</td> <td>   -0.055</td> <td>    0.034</td>\n",
       "</tr>\n",
       "<tr>\n",
       "  <th>C(Processors)[T.X]:C(Workloads)[T.J]</th> <td>   -0.0433</td> <td>    0.031</td> <td>   -1.389</td> <td> 0.172</td> <td>   -0.106</td> <td>    0.020</td>\n",
       "</tr>\n",
       "<tr>\n",
       "  <th>C(Processors)[T.Y]:C(Workloads)[T.J]</th> <td>   -0.1712</td> <td>    0.031</td> <td>   -5.492</td> <td> 0.000</td> <td>   -0.234</td> <td>   -0.108</td>\n",
       "</tr>\n",
       "<tr>\n",
       "  <th>C(Processors)[T.Z]:C(Workloads)[T.J]</th> <td>   -0.0299</td> <td>    0.031</td> <td>   -0.958</td> <td> 0.344</td> <td>   -0.093</td> <td>    0.033</td>\n",
       "</tr>\n",
       "<tr>\n",
       "  <th>C(Processors)[T.X]:C(Workloads)[T.K]</th> <td>    0.0554</td> <td>    0.031</td> <td>    1.779</td> <td> 0.083</td> <td>   -0.008</td> <td>    0.118</td>\n",
       "</tr>\n",
       "<tr>\n",
       "  <th>C(Processors)[T.Y]:C(Workloads)[T.K]</th> <td>    0.0152</td> <td>    0.031</td> <td>    0.487</td> <td> 0.629</td> <td>   -0.048</td> <td>    0.078</td>\n",
       "</tr>\n",
       "<tr>\n",
       "  <th>C(Processors)[T.Z]:C(Workloads)[T.K]</th> <td>    0.0233</td> <td>    0.031</td> <td>    0.749</td> <td> 0.458</td> <td>   -0.040</td> <td>    0.086</td>\n",
       "</tr>\n",
       "<tr>\n",
       "  <th>C(Processors)[T.X]:C(Workloads)[T.L]</th> <td>   -0.2100</td> <td>    0.031</td> <td>   -6.737</td> <td> 0.000</td> <td>   -0.273</td> <td>   -0.147</td>\n",
       "</tr>\n",
       "<tr>\n",
       "  <th>C(Processors)[T.Y]:C(Workloads)[T.L]</th> <td>    0.0245</td> <td>    0.031</td> <td>    0.785</td> <td> 0.437</td> <td>   -0.039</td> <td>    0.087</td>\n",
       "</tr>\n",
       "<tr>\n",
       "  <th>C(Processors)[T.Z]:C(Workloads)[T.L]</th> <td>   -0.1252</td> <td>    0.031</td> <td>   -4.016</td> <td> 0.000</td> <td>   -0.188</td> <td>   -0.062</td>\n",
       "</tr>\n",
       "<tr>\n",
       "  <th>C(Processors)[T.X]:C(Workloads)[T.W]</th> <td>    0.0143</td> <td>    0.031</td> <td>    0.458</td> <td> 0.650</td> <td>   -0.049</td> <td>    0.077</td>\n",
       "</tr>\n",
       "<tr>\n",
       "  <th>C(Processors)[T.Y]:C(Workloads)[T.W]</th> <td>    0.0094</td> <td>    0.031</td> <td>    0.301</td> <td> 0.765</td> <td>   -0.054</td> <td>    0.072</td>\n",
       "</tr>\n",
       "<tr>\n",
       "  <th>C(Processors)[T.Z]:C(Workloads)[T.W]</th> <td>    0.0135</td> <td>    0.031</td> <td>    0.432</td> <td> 0.668</td> <td>   -0.050</td> <td>    0.076</td>\n",
       "</tr>\n",
       "</table>\n",
       "<table class=\"simpletable\">\n",
       "<tr>\n",
       "  <th>Omnibus:</th>       <td> 2.384</td> <th>  Durbin-Watson:     </th> <td>   2.945</td>\n",
       "</tr>\n",
       "<tr>\n",
       "  <th>Prob(Omnibus):</th> <td> 0.304</td> <th>  Jarque-Bera (JB):  </th> <td>   1.481</td>\n",
       "</tr>\n",
       "<tr>\n",
       "  <th>Skew:</th>          <td>-0.082</td> <th>  Prob(JB):          </th> <td>   0.477</td>\n",
       "</tr>\n",
       "<tr>\n",
       "  <th>Kurtosis:</th>      <td> 2.248</td> <th>  Cond. No.          </th> <td>    27.9</td>\n",
       "</tr>\n",
       "</table><br/><br/>Notes:<br/>[1] Standard Errors assume that the covariance matrix of the errors is correctly specified."
      ],
      "text/plain": [
       "<class 'statsmodels.iolib.summary.Summary'>\n",
       "\"\"\"\n",
       "                            OLS Regression Results                            \n",
       "==============================================================================\n",
       "Dep. Variable:              Code_Size   R-squared:                       0.993\n",
       "Model:                            OLS   Adj. R-squared:                  0.990\n",
       "Method:                 Least Squares   F-statistic:                     318.8\n",
       "Date:                Sun, 22 Nov 2020   Prob (F-statistic):           1.17e-37\n",
       "Time:                        20:01:47   Log-Likelihood:                 143.76\n",
       "No. Observations:                  60   AIC:                            -247.5\n",
       "Df Residuals:                      40   BIC:                            -205.6\n",
       "Df Model:                          19                                         \n",
       "Covariance Type:            nonrobust                                         \n",
       "========================================================================================================\n",
       "                                           coef    std err          t      P>|t|      [0.025      0.975]\n",
       "--------------------------------------------------------------------------------------------------------\n",
       "Intercept                                3.8427      0.016    246.591      0.000       3.811       3.874\n",
       "C(Processors)[T.X]                       0.2469      0.022     11.205      0.000       0.202       0.291\n",
       "C(Processors)[T.Y]                       0.6151      0.022     27.911      0.000       0.571       0.660\n",
       "C(Processors)[T.Z]                       0.1445      0.022      6.555      0.000       0.100       0.189\n",
       "C(Workloads)[T.J]                       -0.3384      0.022    -15.355      0.000      -0.383      -0.294\n",
       "C(Workloads)[T.K]                       -0.1707      0.022     -7.747      0.000      -0.215      -0.126\n",
       "C(Workloads)[T.L]                       -0.1342      0.022     -6.091      0.000      -0.179      -0.090\n",
       "C(Workloads)[T.W]                       -0.0105      0.022     -0.478      0.635      -0.055       0.034\n",
       "C(Processors)[T.X]:C(Workloads)[T.J]    -0.0433      0.031     -1.389      0.172      -0.106       0.020\n",
       "C(Processors)[T.Y]:C(Workloads)[T.J]    -0.1712      0.031     -5.492      0.000      -0.234      -0.108\n",
       "C(Processors)[T.Z]:C(Workloads)[T.J]    -0.0299      0.031     -0.958      0.344      -0.093       0.033\n",
       "C(Processors)[T.X]:C(Workloads)[T.K]     0.0554      0.031      1.779      0.083      -0.008       0.118\n",
       "C(Processors)[T.Y]:C(Workloads)[T.K]     0.0152      0.031      0.487      0.629      -0.048       0.078\n",
       "C(Processors)[T.Z]:C(Workloads)[T.K]     0.0233      0.031      0.749      0.458      -0.040       0.086\n",
       "C(Processors)[T.X]:C(Workloads)[T.L]    -0.2100      0.031     -6.737      0.000      -0.273      -0.147\n",
       "C(Processors)[T.Y]:C(Workloads)[T.L]     0.0245      0.031      0.785      0.437      -0.039       0.087\n",
       "C(Processors)[T.Z]:C(Workloads)[T.L]    -0.1252      0.031     -4.016      0.000      -0.188      -0.062\n",
       "C(Processors)[T.X]:C(Workloads)[T.W]     0.0143      0.031      0.458      0.650      -0.049       0.077\n",
       "C(Processors)[T.Y]:C(Workloads)[T.W]     0.0094      0.031      0.301      0.765      -0.054       0.072\n",
       "C(Processors)[T.Z]:C(Workloads)[T.W]     0.0135      0.031      0.432      0.668      -0.050       0.076\n",
       "==============================================================================\n",
       "Omnibus:                        2.384   Durbin-Watson:                   2.945\n",
       "Prob(Omnibus):                  0.304   Jarque-Bera (JB):                1.481\n",
       "Skew:                          -0.082   Prob(JB):                        0.477\n",
       "Kurtosis:                       2.248   Cond. No.                         27.9\n",
       "==============================================================================\n",
       "\n",
       "Notes:\n",
       "[1] Standard Errors assume that the covariance matrix of the errors is correctly specified.\n",
       "\"\"\""
      ]
     },
     "execution_count": 20,
     "metadata": {},
     "output_type": "execute_result"
    }
   ],
   "source": [
    "model.summary()"
   ]
  },
  {
   "cell_type": "markdown",
   "metadata": {},
   "source": [
    "- You can use the following function to see the two-way ANOVA table as below:"
   ]
  },
  {
   "cell_type": "code",
   "execution_count": 21,
   "metadata": {},
   "outputs": [
    {
     "data": {
      "text/html": [
       "<div>\n",
       "<style scoped>\n",
       "    .dataframe tbody tr th:only-of-type {\n",
       "        vertical-align: middle;\n",
       "    }\n",
       "\n",
       "    .dataframe tbody tr th {\n",
       "        vertical-align: top;\n",
       "    }\n",
       "\n",
       "    .dataframe thead th {\n",
       "        text-align: right;\n",
       "    }\n",
       "</style>\n",
       "<table border=\"1\" class=\"dataframe\">\n",
       "  <thead>\n",
       "    <tr style=\"text-align: right;\">\n",
       "      <th></th>\n",
       "      <th>sum_sq</th>\n",
       "      <th>df</th>\n",
       "      <th>F</th>\n",
       "      <th>PR(&gt;F)</th>\n",
       "    </tr>\n",
       "  </thead>\n",
       "  <tbody>\n",
       "    <tr>\n",
       "      <th>C(Processors)</th>\n",
       "      <td>2.929369</td>\n",
       "      <td>3.0</td>\n",
       "      <td>1340.358949</td>\n",
       "      <td>3.778409e-40</td>\n",
       "    </tr>\n",
       "    <tr>\n",
       "      <th>C(Workloads)</th>\n",
       "      <td>1.328227</td>\n",
       "      <td>4.0</td>\n",
       "      <td>455.806817</td>\n",
       "      <td>8.894693e-33</td>\n",
       "    </tr>\n",
       "    <tr>\n",
       "      <th>C(Processors):C(Workloads)</th>\n",
       "      <td>0.154801</td>\n",
       "      <td>12.0</td>\n",
       "      <td>17.707660</td>\n",
       "      <td>2.326800e-12</td>\n",
       "    </tr>\n",
       "    <tr>\n",
       "      <th>Residual</th>\n",
       "      <td>0.029140</td>\n",
       "      <td>40.0</td>\n",
       "      <td>NaN</td>\n",
       "      <td>NaN</td>\n",
       "    </tr>\n",
       "  </tbody>\n",
       "</table>\n",
       "</div>"
      ],
      "text/plain": [
       "                              sum_sq    df            F        PR(>F)\n",
       "C(Processors)               2.929369   3.0  1340.358949  3.778409e-40\n",
       "C(Workloads)                1.328227   4.0   455.806817  8.894693e-33\n",
       "C(Processors):C(Workloads)  0.154801  12.0    17.707660  2.326800e-12\n",
       "Residual                    0.029140  40.0          NaN           NaN"
      ]
     },
     "execution_count": 21,
     "metadata": {},
     "output_type": "execute_result"
    }
   ],
   "source": [
    "res = sm.stats.anova_lm(model, typ= 2)\n",
    "res"
   ]
  }
 ],
 "metadata": {
  "kernelspec": {
   "display_name": "Python 3",
   "language": "python",
   "name": "python3"
  },
  "language_info": {
   "codemirror_mode": {
    "name": "ipython",
    "version": 3
   },
   "file_extension": ".py",
   "mimetype": "text/x-python",
   "name": "python",
   "nbconvert_exporter": "python",
   "pygments_lexer": "ipython3",
   "version": "3.7.9"
  },
  "toc": {
   "base_numbering": 1,
   "nav_menu": {},
   "number_sections": true,
   "sideBar": true,
   "skip_h1_title": false,
   "title_cell": "Table of Contents",
   "title_sidebar": "Contents",
   "toc_cell": false,
   "toc_position": {},
   "toc_section_display": true,
   "toc_window_display": false
  },
  "varInspector": {
   "cols": {
    "lenName": 16,
    "lenType": 16,
    "lenVar": 40
   },
   "kernels_config": {
    "python": {
     "delete_cmd_postfix": "",
     "delete_cmd_prefix": "del ",
     "library": "var_list.py",
     "varRefreshCmd": "print(var_dic_list())"
    },
    "r": {
     "delete_cmd_postfix": ") ",
     "delete_cmd_prefix": "rm(",
     "library": "var_list.r",
     "varRefreshCmd": "cat(var_dic_list()) "
    }
   },
   "types_to_exclude": [
    "module",
    "function",
    "builtin_function_or_method",
    "instance",
    "_Feature"
   ],
   "window_display": false
  }
 },
 "nbformat": 4,
 "nbformat_minor": 2
}
