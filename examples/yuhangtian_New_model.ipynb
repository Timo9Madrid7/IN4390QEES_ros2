{
 "cells": [
  {
   "cell_type": "code",
   "execution_count": 1,
   "metadata": {},
   "outputs": [],
   "source": [
    "import numpy as np\n",
    "from pyDOE2 import *\n",
    "from scipy import stats"
   ]
  },
  {
   "cell_type": "markdown",
   "metadata": {},
   "source": [
    "# Original Model"
   ]
  },
  {
   "cell_type": "code",
   "execution_count": 2,
   "metadata": {},
   "outputs": [
    {
     "name": "stdout",
     "output_type": "stream",
     "text": [
      "sign table:\n",
      " [[ 1. -1. -1. -1.  1.  1.  1. -1.]\n",
      " [ 1.  1. -1. -1. -1. -1.  1.  1.]\n",
      " [ 1. -1.  1. -1. -1.  1. -1.  1.]\n",
      " [ 1.  1.  1. -1.  1. -1. -1. -1.]\n",
      " [ 1. -1. -1.  1.  1. -1. -1.  1.]\n",
      " [ 1.  1. -1.  1. -1.  1. -1. -1.]\n",
      " [ 1. -1.  1.  1. -1. -1.  1. -1.]\n",
      " [ 1.  1.  1.  1.  1.  1.  1.  1.]]\n"
     ]
    }
   ],
   "source": [
    "sign =  fracfact('a b c ab ac bc abc')\n",
    "interc = np.ones([8,1])\n",
    "x = np.hstack((interc, sign))\n",
    "print(\"sign table:\\n\", x)"
   ]
  },
  {
   "cell_type": "code",
   "execution_count": 3,
   "metadata": {},
   "outputs": [
    {
     "name": "stdout",
     "output_type": "stream",
     "text": [
      "y_bar:  [14. 20. 15. 33. 44. 60. 53. 80.]\n"
     ]
    }
   ],
   "source": [
    "y = np.array([\n",
    "    [14, 16, 12],\n",
    "    [22, 18, 20],\n",
    "    [11, 15, 19],\n",
    "    [34, 30, 35],\n",
    "    [46, 42, 44],\n",
    "    [58, 62, 60],\n",
    "    [50, 55, 54],\n",
    "    [86, 80, 74],\n",
    "             ])\n",
    "y_mean = np.mean(y, axis=1)\n",
    "print(\"y_bar: \", y_mean)\n",
    "y_bar = y_mean.reshape([y_mean.shape[0],1])"
   ]
  },
  {
   "cell_type": "code",
   "execution_count": 4,
   "metadata": {},
   "outputs": [
    {
     "name": "stdout",
     "output_type": "stream",
     "text": [
      "q:  [39.875  8.375  5.375 19.375  2.875  2.375  1.875 -0.125]\n"
     ]
    }
   ],
   "source": [
    "q = 1./8 * np.dot(y_bar.T, x)\n",
    "print(\"q: \", q.reshape([8,]))\n",
    "q = q.reshape([8,1])"
   ]
  },
  {
   "cell_type": "code",
   "execution_count": 5,
   "metadata": {},
   "outputs": [],
   "source": [
    "SSY = np.sum(y ** 2)\n",
    "SSj = 2**3 * 3 * q**2\n",
    "SSE = np.sum((y - y_bar)**2)\n",
    "SST = SSY - SSj[0]"
   ]
  },
  {
   "cell_type": "code",
   "execution_count": 6,
   "metadata": {},
   "outputs": [
    {
     "name": "stdout",
     "output_type": "stream",
     "text": [
      "percentage variation (%):\n",
      "[[14.06  5.79 75.27  1.66  1.13  0.7   0.  ]]\n"
     ]
    }
   ],
   "source": [
    "percentage = SSj[1:]/SST[0] * 100\n",
    "print(\"percentage variation (%):\")\n",
    "print(np.round(percentage,2).T)"
   ]
  },
  {
   "cell_type": "code",
   "execution_count": 7,
   "metadata": {},
   "outputs": [
    {
     "name": "stdout",
     "output_type": "stream",
     "text": [
      "t[1-0.1/2;2^3(3-1)]:  1.74588367627624\n"
     ]
    }
   ],
   "source": [
    "t = stats.t.ppf(1-0.1/2, 2**3 * (3-1))\n",
    "print(\"t[1-0.1/2;2^3(3-1)]: \", t)"
   ]
  },
  {
   "cell_type": "code",
   "execution_count": 8,
   "metadata": {},
   "outputs": [],
   "source": [
    "Se = np.sqrt(SSE/(2**3 * (3-1)))\n",
    "Sqi = Se/np.sqrt(2**3 * 3)"
   ]
  },
  {
   "cell_type": "code",
   "execution_count": 9,
   "metadata": {},
   "outputs": [
    {
     "name": "stdout",
     "output_type": "stream",
     "text": [
      "q0:  [38.73403685 41.01596315]\n",
      "q1:  [7.23403685 9.51596315]\n",
      "q2:  [4.23403685 6.51596315]\n",
      "q3:  [18.23403685 20.51596315]\n",
      "q4:  [1.73403685 4.01596315]\n",
      "q5:  [1.23403685 3.51596315]\n",
      "q6:  [0.73403685 3.01596315]\n",
      "q7:  [-1.26596315  1.01596315]\n"
     ]
    }
   ],
   "source": [
    "q_lower = q - t * Sqi\n",
    "q_upper = q + t * Sqi\n",
    "\n",
    "CI = np.hstack((q_lower,q_upper))\n",
    "for i in range(len(CI)):\n",
    "    print(\"q\"+str(i)+\": \", CI[i])"
   ]
  },
  {
   "cell_type": "markdown",
   "metadata": {},
   "source": [
    "# New Model"
   ]
  },
  {
   "cell_type": "code",
   "execution_count": 10,
   "metadata": {},
   "outputs": [
    {
     "name": "stdout",
     "output_type": "stream",
     "text": [
      "sign table:\n",
      " [[ 1. -1. -1. -1.  1.  1.  1.]\n",
      " [ 1.  1. -1. -1. -1. -1.  1.]\n",
      " [ 1. -1.  1. -1. -1.  1. -1.]\n",
      " [ 1.  1.  1. -1.  1. -1. -1.]\n",
      " [ 1. -1. -1.  1.  1. -1. -1.]\n",
      " [ 1.  1. -1.  1. -1.  1. -1.]\n",
      " [ 1. -1.  1.  1. -1. -1.  1.]\n",
      " [ 1.  1.  1.  1.  1.  1.  1.]]\n"
     ]
    }
   ],
   "source": [
    "sign =  fracfact('a b c ab ac bc')\n",
    "interc = np.ones([8,1])\n",
    "x = np.hstack((interc, sign))\n",
    "print(\"sign table:\\n\", x)"
   ]
  },
  {
   "cell_type": "code",
   "execution_count": 11,
   "metadata": {},
   "outputs": [
    {
     "name": "stdout",
     "output_type": "stream",
     "text": [
      "y_bar:  [14. 20. 15. 33. 44. 60. 53. 80.]\n"
     ]
    }
   ],
   "source": [
    "y = np.array([\n",
    "    [14, 16, 12],\n",
    "    [22, 18, 20],\n",
    "    [11, 15, 19],\n",
    "    [34, 30, 35],\n",
    "    [46, 42, 44],\n",
    "    [58, 62, 60],\n",
    "    [50, 55, 54],\n",
    "    [86, 80, 74],\n",
    "             ])\n",
    "y_mean = np.mean(y, axis=1)\n",
    "print(\"y_bar: \", y_mean)\n",
    "y_bar = y_mean.reshape([y_mean.shape[0],1])"
   ]
  },
  {
   "cell_type": "code",
   "execution_count": 12,
   "metadata": {},
   "outputs": [
    {
     "name": "stdout",
     "output_type": "stream",
     "text": [
      "q:  [45.57142857  9.57142857  6.14285714 22.14285714  3.28571429  2.71428571\n",
      "  2.14285714]\n"
     ]
    }
   ],
   "source": [
    "q = 1./7 * np.dot(y_bar.T, x)\n",
    "print(\"q: \", q.reshape([7,]))\n",
    "q = q.reshape([7,1])"
   ]
  },
  {
   "cell_type": "code",
   "execution_count": 13,
   "metadata": {},
   "outputs": [],
   "source": [
    "SSY = np.sum(y ** 2)\n",
    "SSj = (2**3-1) * 3 * q**2\n",
    "SSE = np.sum((y - y_bar)**2)\n",
    "SST = SSY - SSj[0]"
   ]
  },
  {
   "cell_type": "code",
   "execution_count": 14,
   "metadata": {},
   "outputs": [
    {
     "name": "stdout",
     "output_type": "stream",
     "text": [
      "percentage variation (%):\n",
      "[[ 29.52  12.16 157.99   3.48   2.37   1.48]]\n"
     ]
    }
   ],
   "source": [
    "percentage = SSj[1:]/SST[0] * 100\n",
    "print(\"percentage variation (%):\")\n",
    "print(np.round(percentage,2).T)"
   ]
  },
  {
   "cell_type": "code",
   "execution_count": 15,
   "metadata": {},
   "outputs": [
    {
     "name": "stdout",
     "output_type": "stream",
     "text": [
      "t[1-0.1/2;2^3(3-1)]:  1.7613101357748562\n"
     ]
    }
   ],
   "source": [
    "t = stats.t.ppf(1-0.1/2, (2**3-1) * (3-1))\n",
    "print(\"t[1-0.1/2;2^3(3-1)]: \", t)"
   ]
  },
  {
   "cell_type": "code",
   "execution_count": 16,
   "metadata": {},
   "outputs": [],
   "source": [
    "Se = np.sqrt(SSE/((2**3-1) * (3-1)))\n",
    "Sqi = Se/np.sqrt((2**3-1) * 3)"
   ]
  },
  {
   "cell_type": "code",
   "execution_count": 17,
   "metadata": {},
   "outputs": [
    {
     "name": "stdout",
     "output_type": "stream",
     "text": [
      "q0:  [44.25594905 46.8869081 ]\n",
      "q1:  [ 8.25594905 10.8869081 ]\n",
      "q2:  [4.82737762 7.45833667]\n",
      "q3:  [20.82737762 23.45833667]\n",
      "q4:  [1.97023476 4.60119381]\n",
      "q5:  [1.39880619 4.02976524]\n",
      "q6:  [0.82737762 3.45833667]\n"
     ]
    }
   ],
   "source": [
    "q_lower = q - t * Sqi\n",
    "q_upper = q + t * Sqi\n",
    "\n",
    "CI = np.hstack((q_lower,q_upper))\n",
    "for i in range(len(CI)):\n",
    "    print(\"q\"+str(i)+\": \", CI[i])"
   ]
  }
 ],
 "metadata": {
  "kernelspec": {
   "display_name": "Python 3",
   "language": "python",
   "name": "python3"
  },
  "language_info": {
   "codemirror_mode": {
    "name": "ipython",
    "version": 3
   },
   "file_extension": ".py",
   "mimetype": "text/x-python",
   "name": "python",
   "nbconvert_exporter": "python",
   "pygments_lexer": "ipython3",
   "version": "3.7.9"
  },
  "toc": {
   "base_numbering": 1,
   "nav_menu": {},
   "number_sections": true,
   "sideBar": true,
   "skip_h1_title": false,
   "title_cell": "Table of Contents",
   "title_sidebar": "Contents",
   "toc_cell": false,
   "toc_position": {},
   "toc_section_display": true,
   "toc_window_display": false
  },
  "varInspector": {
   "cols": {
    "lenName": 16,
    "lenType": 16,
    "lenVar": 40
   },
   "kernels_config": {
    "python": {
     "delete_cmd_postfix": "",
     "delete_cmd_prefix": "del ",
     "library": "var_list.py",
     "varRefreshCmd": "print(var_dic_list())"
    },
    "r": {
     "delete_cmd_postfix": ") ",
     "delete_cmd_prefix": "rm(",
     "library": "var_list.r",
     "varRefreshCmd": "cat(var_dic_list()) "
    }
   },
   "types_to_exclude": [
    "module",
    "function",
    "builtin_function_or_method",
    "instance",
    "_Feature"
   ],
   "window_display": false
  }
 },
 "nbformat": 4,
 "nbformat_minor": 4
}
