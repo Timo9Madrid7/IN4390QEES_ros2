{
 "cells": [
  {
   "cell_type": "code",
   "execution_count": 1,
   "metadata": {},
   "outputs": [],
   "source": [
    "import numpy as np"
   ]
  },
  {
   "cell_type": "markdown",
   "metadata": {},
   "source": [
    "# Two M\\M\\1\\5"
   ]
  },
  {
   "cell_type": "code",
   "execution_count": 2,
   "metadata": {},
   "outputs": [
    {
     "name": "stdout",
     "output_type": "stream",
     "text": [
      "0.2506\n"
     ]
    }
   ],
   "source": [
    "sum_ = 0\n",
    "rho = 10/6\n",
    "for i in range(0,5+1):\n",
    "    sum_ += (0.5*rho)**i\n",
    "    \n",
    "P0 = 1/sum_\n",
    "print(np.round(P0,4))"
   ]
  },
  {
   "cell_type": "code",
   "execution_count": 3,
   "metadata": {},
   "outputs": [
    {
     "name": "stdout",
     "output_type": "stream",
     "text": [
      "10.07 %\n"
     ]
    }
   ],
   "source": [
    "loss = P0*(0.5*rho)**5\n",
    "print(np.round(loss,4)*100,'%')"
   ]
  },
  {
   "cell_type": "code",
   "execution_count": 4,
   "metadata": {},
   "outputs": [
    {
     "name": "stdout",
     "output_type": "stream",
     "text": [
      "1.9788\n"
     ]
    }
   ],
   "source": [
    "N = 0\n",
    "for i in range(0,5+1):\n",
    "    N += i * P0 * (0.5*rho)**i\n",
    "\n",
    "print(np.round(N,4))"
   ]
  },
  {
   "cell_type": "code",
   "execution_count": 5,
   "metadata": {},
   "outputs": [
    {
     "name": "stdout",
     "output_type": "stream",
     "text": [
      "0.3958\n"
     ]
    }
   ],
   "source": [
    "R = N/(0.5*10)\n",
    "print(np.round(R,4))"
   ]
  },
  {
   "cell_type": "code",
   "execution_count": 6,
   "metadata": {},
   "outputs": [
    {
     "name": "stdout",
     "output_type": "stream",
     "text": [
      "0.7494\n"
     ]
    }
   ],
   "source": [
    "print(np.round(1 - P0,4))"
   ]
  },
  {
   "cell_type": "markdown",
   "metadata": {},
   "source": [
    "# One M\\M\\2\\10"
   ]
  },
  {
   "cell_type": "code",
   "execution_count": 7,
   "metadata": {},
   "outputs": [
    {
     "name": "stdout",
     "output_type": "stream",
     "text": [
      "0.1066\n"
     ]
    }
   ],
   "source": [
    "arrive = 10\n",
    "departure = 6\n",
    "\n",
    "sum_ = 0\n",
    "for i in range(0,9+1):\n",
    "    sum_ += arrive/departure * (arrive/(2*departure)) ** i\n",
    "    \n",
    "P0 = 1/(sum_+1)\n",
    "print(np.round(P0,4))"
   ]
  },
  {
   "cell_type": "code",
   "execution_count": 8,
   "metadata": {},
   "outputs": [
    {
     "name": "stdout",
     "output_type": "stream",
     "text": [
      "3.6398\n"
     ]
    }
   ],
   "source": [
    "N_mean = 0\n",
    "for n in range(1,10+1):\n",
    "        N_mean += n * (P0*arrive/departure) * (arrive/(2*departure)) ** (n-1)\n",
    "\n",
    "print(np.round(N_mean,4))"
   ]
  },
  {
   "cell_type": "code",
   "execution_count": 9,
   "metadata": {},
   "outputs": [
    {
     "name": "stdout",
     "output_type": "stream",
     "text": [
      "0.364\n"
     ]
    }
   ],
   "source": [
    "R = N_mean/10\n",
    "print(np.round(R,4))"
   ]
  },
  {
   "cell_type": "code",
   "execution_count": 10,
   "metadata": {},
   "outputs": [
    {
     "name": "stdout",
     "output_type": "stream",
     "text": [
      "0.8934\n"
     ]
    }
   ],
   "source": [
    "print(np.round(1 - P0,4))"
   ]
  },
  {
   "cell_type": "code",
   "execution_count": 11,
   "metadata": {},
   "outputs": [
    {
     "name": "stdout",
     "output_type": "stream",
     "text": [
      "3.44 %\n"
     ]
    }
   ],
   "source": [
    "loss = P0 * (arrive/departure) * (arrive/(2*departure)) ** 9\n",
    "print(np.round(loss,4)*100,'%')"
   ]
  },
  {
   "cell_type": "markdown",
   "metadata": {},
   "source": [
    "# Q3"
   ]
  },
  {
   "cell_type": "code",
   "execution_count": 12,
   "metadata": {},
   "outputs": [
    {
     "name": "stdout",
     "output_type": "stream",
     "text": [
      "[164.38 410.96 123.29  82.19 219.18]\n"
     ]
    }
   ],
   "source": [
    "G = np.array([[-4,1,3,0,1], [0,-1,0,0,1], \n",
    "              [0,0,-4,2,1], [0,3,0,-3,1], [3,0,0,0,1]])\n",
    "\n",
    "p = np.array([0,0,0,0,1])\n",
    "\n",
    "print(np.round(p.dot(np.linalg.inv(G)),5)*1000)"
   ]
  },
  {
   "cell_type": "code",
   "execution_count": 13,
   "metadata": {},
   "outputs": [
    {
     "name": "stdout",
     "output_type": "stream",
     "text": [
      "[142.855 214.285 142.855]\n"
     ]
    }
   ],
   "source": [
    "G = np.array([[-3,3,1], [0,-2,1], [3,0,1]])\n",
    "p = np.array([0,0,1])\n",
    "\n",
    "print(np.round(p.dot(np.linalg.inv(G)),5)*500)"
   ]
  },
  {
   "cell_type": "code",
   "execution_count": null,
   "metadata": {},
   "outputs": [],
   "source": []
  }
 ],
 "metadata": {
  "kernelspec": {
   "display_name": "Python 3",
   "language": "python",
   "name": "python3"
  },
  "language_info": {
   "codemirror_mode": {
    "name": "ipython",
    "version": 3
   },
   "file_extension": ".py",
   "mimetype": "text/x-python",
   "name": "python",
   "nbconvert_exporter": "python",
   "pygments_lexer": "ipython3",
   "version": "3.7.9"
  },
  "toc": {
   "base_numbering": 1,
   "nav_menu": {},
   "number_sections": true,
   "sideBar": true,
   "skip_h1_title": false,
   "title_cell": "Table of Contents",
   "title_sidebar": "Contents",
   "toc_cell": false,
   "toc_position": {},
   "toc_section_display": true,
   "toc_window_display": false
  },
  "varInspector": {
   "cols": {
    "lenName": 16,
    "lenType": 16,
    "lenVar": 40
   },
   "kernels_config": {
    "python": {
     "delete_cmd_postfix": "",
     "delete_cmd_prefix": "del ",
     "library": "var_list.py",
     "varRefreshCmd": "print(var_dic_list())"
    },
    "r": {
     "delete_cmd_postfix": ") ",
     "delete_cmd_prefix": "rm(",
     "library": "var_list.r",
     "varRefreshCmd": "cat(var_dic_list()) "
    }
   },
   "types_to_exclude": [
    "module",
    "function",
    "builtin_function_or_method",
    "instance",
    "_Feature"
   ],
   "window_display": false
  }
 },
 "nbformat": 4,
 "nbformat_minor": 4
}
