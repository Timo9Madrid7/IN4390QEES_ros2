{
 "cells": [
  {
   "cell_type": "code",
   "execution_count": 1,
   "metadata": {},
   "outputs": [],
   "source": [
    "import numpy as np\n",
    "import pandas as pd\n",
    "import matplotlib.pyplot as plt\n",
    "\n",
    "import researchpy as rp\n",
    "import seaborn as sns\n",
    "import statsmodels.api as sm\n",
    "from statsmodels.formula.api import ols\n",
    "import statsmodels.stats.multicomp\n",
    "\n",
    "from jupyterthemes import jtplot\n",
    "jtplot.style(theme=\"grade3\")"
   ]
  },
  {
   "cell_type": "markdown",
   "metadata": {},
   "source": [
    "# Load Data"
   ]
  },
  {
   "cell_type": "code",
   "execution_count": 2,
   "metadata": {},
   "outputs": [],
   "source": [
    "datasize = [\"256\", \"512\", \"128K\", \"256K\"]"
   ]
  },
  {
   "cell_type": "code",
   "execution_count": 3,
   "metadata": {},
   "outputs": [
    {
     "name": "stdout",
     "output_type": "stream",
     "text": [
      "realTime_Unloaded_FreqDisable:  (570, 4)\n"
     ]
    }
   ],
   "source": [
    "realTime_Unloaded_FreqDisable = np.zeros([600, len(datasize)])\n",
    "for i in range(len(datasize)):\n",
    "    realTime_Unloaded_FreqDisable[:, i] = np.loadtxt(\"./q5/Real-Time_Unloaded_FreqDisable/\"+\"transport_time_\"+datasize[i]+\"byte.txt\", dtype=np.float64) * 1000 # convert \"s\" to \"ms\"\n",
    "\n",
    "realTime_Unloaded_FreqDisable = realTime_Unloaded_FreqDisable[30:, :]\n",
    "print(\"realTime_Unloaded_FreqDisable: \", realTime_Unloaded_FreqDisable.shape)"
   ]
  },
  {
   "cell_type": "code",
   "execution_count": 4,
   "metadata": {},
   "outputs": [
    {
     "name": "stdout",
     "output_type": "stream",
     "text": [
      "realTime_Loaded_FreqDisable:  (570, 4)\n"
     ]
    }
   ],
   "source": [
    "realTime_Loaded_FreqDisable = np.zeros([600, len(datasize)])\n",
    "for i in range(len(datasize)):\n",
    "    realTime_Loaded_FreqDisable[:, i] = np.loadtxt(\"./q5/Real-Time_Loaded_FreqDisable/\"+\"transport_time_\"+datasize[i]+\"byte.txt\", dtype=np.float64) * 1000 # convert \"s\" to \"ms\"\n",
    "    \n",
    "realTime_Loaded_FreqDisable = realTime_Loaded_FreqDisable[30:, :]\n",
    "print(\"realTime_Loaded_FreqDisable: \", realTime_Loaded_FreqDisable.shape)"
   ]
  },
  {
   "cell_type": "code",
   "execution_count": 5,
   "metadata": {},
   "outputs": [
    {
     "name": "stdout",
     "output_type": "stream",
     "text": [
      "nonRealTime_Unloaded_FreqDisable:  (570, 4)\n"
     ]
    }
   ],
   "source": [
    "nonRealTime_Unloaded_FreqDisable = np.zeros([600, len(datasize)])\n",
    "for i in range(len(datasize)):\n",
    "    nonRealTime_Unloaded_FreqDisable[:, i] = np.loadtxt(\"./q5/NonReal-Time_Unloaded_FreqDisable/\"+\"transport_time_\"+datasize[i]+\"byte.txt\", dtype=np.float64) * 1000 # convert \"s\" to \"ms\"\n",
    "    \n",
    "nonRealTime_Unloaded_FreqDisable = nonRealTime_Unloaded_FreqDisable[30:, :]\n",
    "print(\"nonRealTime_Unloaded_FreqDisable: \", nonRealTime_Unloaded_FreqDisable.shape)"
   ]
  },
  {
   "cell_type": "code",
   "execution_count": 6,
   "metadata": {},
   "outputs": [
    {
     "name": "stdout",
     "output_type": "stream",
     "text": [
      "nonRealTime_Loaded_FreqDisable:  (570, 4)\n"
     ]
    }
   ],
   "source": [
    "nonRealTime_Loaded_FreqDisable = np.zeros([600, len(datasize)])\n",
    "for i in range(len(datasize)):\n",
    "    nonRealTime_Loaded_FreqDisable[:, i] = np.loadtxt(\"./q5/NonReal-Time_Loaded_FreqDisable/\"+\"transport_time_\"+datasize[i]+\"byte.txt\", dtype=np.float64) * 1000 # convert \"s\" to \"ms\"\n",
    "    \n",
    "nonRealTime_Loaded_FreqDisable = nonRealTime_Loaded_FreqDisable[30:, :]\n",
    "print(\"nonRealTime_Loaded_FreqDisable: \", nonRealTime_Loaded_FreqDisable.shape)"
   ]
  },
  {
   "cell_type": "code",
   "execution_count": null,
   "metadata": {},
   "outputs": [],
   "source": []
  }
 ],
 "metadata": {
  "kernelspec": {
   "display_name": "Python 3",
   "language": "python",
   "name": "python3"
  },
  "language_info": {
   "codemirror_mode": {
    "name": "ipython",
    "version": 3
   },
   "file_extension": ".py",
   "mimetype": "text/x-python",
   "name": "python",
   "nbconvert_exporter": "python",
   "pygments_lexer": "ipython3",
   "version": "3.7.9"
  },
  "toc": {
   "base_numbering": 1,
   "nav_menu": {},
   "number_sections": true,
   "sideBar": true,
   "skip_h1_title": false,
   "title_cell": "Table of Contents",
   "title_sidebar": "Contents",
   "toc_cell": false,
   "toc_position": {},
   "toc_section_display": true,
   "toc_window_display": false
  },
  "varInspector": {
   "cols": {
    "lenName": 16,
    "lenType": 16,
    "lenVar": 40
   },
   "kernels_config": {
    "python": {
     "delete_cmd_postfix": "",
     "delete_cmd_prefix": "del ",
     "library": "var_list.py",
     "varRefreshCmd": "print(var_dic_list())"
    },
    "r": {
     "delete_cmd_postfix": ") ",
     "delete_cmd_prefix": "rm(",
     "library": "var_list.r",
     "varRefreshCmd": "cat(var_dic_list()) "
    }
   },
   "types_to_exclude": [
    "module",
    "function",
    "builtin_function_or_method",
    "instance",
    "_Feature"
   ],
   "window_display": false
  }
 },
 "nbformat": 4,
 "nbformat_minor": 4
}
