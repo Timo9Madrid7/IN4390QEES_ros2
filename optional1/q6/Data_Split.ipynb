{
 "cells": [
  {
   "cell_type": "code",
   "execution_count": 1,
   "metadata": {},
   "outputs": [],
   "source": [
    "import numpy as np"
   ]
  },
  {
   "cell_type": "code",
   "execution_count": 2,
   "metadata": {},
   "outputs": [],
   "source": [
    "dataSize = ['256', '512', '1K', '2K', '4K', '8K', '16K', '32K', '64K', '128K', '256K', '512K', '1M', '2M', '4M']\n",
    "\n",
    "data_load = np.zeros([600, 15])\n",
    "data_unload = np.zeros([600, 15])\n",
    "data_heavyload = np.zeros([600,15])\n",
    "\n",
    "path = \"./loaded/transport_time_\"\n",
    "for i in range(len(dataSize)):\n",
    "    data_load[:,i] = np.loadtxt(path+dataSize[i]+\"byte.txt\", dtype=np.float64)\n",
    "\n",
    "path = \"./unloaded/transport_time_\"\n",
    "for i in range(len(dataSize)):\n",
    "    data_unload[:,i] = np.loadtxt(path+dataSize[i]+\"byte.txt\", dtype=np.float64)\n",
    "    \n",
    "path = \"./heavy_load/transport_time_\"\n",
    "for i in range(len(dataSize)):\n",
    "    data_heavyload[:,i] = np.loadtxt(path+dataSize[i]+\"byte.txt\", dtype=np.float64)"
   ]
  },
  {
   "cell_type": "code",
   "execution_count": 3,
   "metadata": {},
   "outputs": [],
   "source": [
    "np.savetxt('./YH/np_unload.txt', data_unload[:300,:])\n",
    "np.savetxt('./YH/np_load.txt', data_load[:300,:])\n",
    "np.savetxt('./YH/np_heavyload.txt', data_heavyload[:300,:])"
   ]
  },
  {
   "cell_type": "code",
   "execution_count": 4,
   "metadata": {},
   "outputs": [],
   "source": [
    "np.savetxt('./SX/np_unload.txt', data_unload[300:,:])\n",
    "np.savetxt('./SX/np_load.txt', data_load[300:,:])\n",
    "np.savetxt('./SX/np_heavyload.txt', data_heavyload[300:,:])"
   ]
  },
  {
   "cell_type": "code",
   "execution_count": null,
   "metadata": {},
   "outputs": [],
   "source": []
  }
 ],
 "metadata": {
  "kernelspec": {
   "display_name": "Python 3",
   "language": "python",
   "name": "python3"
  },
  "language_info": {
   "codemirror_mode": {
    "name": "ipython",
    "version": 3
   },
   "file_extension": ".py",
   "mimetype": "text/x-python",
   "name": "python",
   "nbconvert_exporter": "python",
   "pygments_lexer": "ipython3",
   "version": "3.7.9"
  },
  "toc": {
   "base_numbering": 1,
   "nav_menu": {},
   "number_sections": true,
   "sideBar": true,
   "skip_h1_title": false,
   "title_cell": "Table of Contents",
   "title_sidebar": "Contents",
   "toc_cell": false,
   "toc_position": {},
   "toc_section_display": true,
   "toc_window_display": false
  },
  "varInspector": {
   "cols": {
    "lenName": 16,
    "lenType": 16,
    "lenVar": 40
   },
   "kernels_config": {
    "python": {
     "delete_cmd_postfix": "",
     "delete_cmd_prefix": "del ",
     "library": "var_list.py",
     "varRefreshCmd": "print(var_dic_list())"
    },
    "r": {
     "delete_cmd_postfix": ") ",
     "delete_cmd_prefix": "rm(",
     "library": "var_list.r",
     "varRefreshCmd": "cat(var_dic_list()) "
    }
   },
   "types_to_exclude": [
    "module",
    "function",
    "builtin_function_or_method",
    "instance",
    "_Feature"
   ],
   "window_display": false
  }
 },
 "nbformat": 4,
 "nbformat_minor": 4
}
