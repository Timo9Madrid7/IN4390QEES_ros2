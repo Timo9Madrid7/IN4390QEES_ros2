{
 "cells": [
  {
   "cell_type": "code",
   "execution_count": 186,
   "metadata": {},
   "outputs": [],
   "source": [
    "import pandas as pd\n",
    "import matplotlib.pyplot as plt\n",
    "import numpy as np"
   ]
  },
  {
   "cell_type": "code",
   "execution_count": 187,
   "metadata": {},
   "outputs": [],
   "source": [
    "x = ['256', '512', '1K', '2K', '4K', '8K', '16K', '32K', '64K', '128K', '256K', '512K', '1M', '2M', '4M']\n",
    "x_1 = x[0:9]\n",
    "x_2 =x[8:15]\n",
    "y1=[4.2685, 4.1019, 4.0140, 4.1160, 4.6933, 4.7952, 4.6570, 5.3851, 6.5568, 9.0463, 14.8733, 29.6222, 91.7210, 208.9532, 2732.1426]\n",
    "y1_1 = y1[0:9]\n",
    "y1_2 = y1[8:15]\n",
    "y2=[4.5327, 4.44636, 4.3285, 4.8979, 5.5468, 5.5590, 5.8040, 5.9145, 16.9799, 9.3332, 15.3302, 30.9836, 95.5883, 326.46331, 3509.0331]\n",
    "y2_1 = y2[0:9]\n",
    "y2_2 = y2[8:15]\n",
    "y3=[4.2827, 2.5139, 4.1712, 4.5070, 5.1201, 5.1771, 5.2305, 5.6498, 11.7683, 9.1897, 15.1018, 12.9964, 93.6546, 267.7082, 3120.5878]\n",
    "\n",
    "z1=[2.9895,2.9694,3.0045,3.0519,3.1121,3.3259,3.5342,3.9258,4.9927,7.1420,11.8124,22.7632,49.6185,87.5197,295.203]\n",
    "z1_1 = z1[0:9]\n",
    "z1_2 = z1[8:15]\n",
    "z2=[3.0399,3.0093,3.0946,3.1269,3.1419,3.3768,3.5756,4.0128,5.0665,7.2279,12.1511,23.2902,50.7995,89.5588,301.2068]\n",
    "z2_1 = z2[0:9]\n",
    "z2_2 = z2[8:15]\n",
    "z3=[3.0147,2.9884,3.0495,3.0894,3.127,3.3513,3.5549,3.9693,5.0296,7.1849,11.9817,23.0267,50.2090,88.5392,298.2049]"
   ]
  },
  {
   "cell_type": "code",
   "execution_count": null,
   "metadata": {},
   "outputs": [],
   "source": [
    "plt.figure(num=1, figsize=(40,40))\n",
    "\n",
    "ax1 = plt.subplot(2,2,1)\n",
    "plt.sca(ax1)\n",
    "plt.plot(x_1,y1_1)\n",
    "plt.plot(x_1,y2_1)\n",
    "plt.xlabel(\"Data Size [byte]\")\n",
    "plt.ylabel(\"latency [ms]\")\n",
    "plt.title(\"Loaded & Small Data \")\n",
    "plt.fill_between(x_1,y1_1,y2_1)\n",
    "\n",
    "ax2 = plt.subplot(2,2,2)\n",
    "plt.sca(ax2)\n",
    "plt.plot(x_2,y1_2)\n",
    "plt.plot(x_2,y2_2)\n",
    "plt.xlabel(\"Data Size [byte]\")\n",
    "plt.ylabel(\"latency [ms]\")\n",
    "plt.title(\"Loaded & Large Data \")\n",
    "plt.fill_between(x_2,y1_2,y2_2)\n",
    "\n",
    "\n",
    "ax3 = plt.subplot(2,2,3)\n",
    "plt.sca(ax3)\n",
    "plt.plot(x_1,z1_1)\n",
    "plt.plot(x_1,z2_1)\n",
    "plt.xlabel(\"Data Size [byte]\")\n",
    "plt.ylabel(\"latency [ms]\")\n",
    "plt.title(\"Unloaded & Small Data \")\n",
    "plt.fill_between(x_1,z1_1,z2_1)\n",
    "\n",
    "ax4 = plt.subplot(2,2,4)\n",
    "plt.sca(ax4)\n",
    "plt.plot(x_2,z1_2)\n",
    "plt.plot(x_2,z2_2)\n",
    "plt.xlabel(\"Data Size [byte]\")\n",
    "plt.ylabel(\"latency [ms]\")\n",
    "plt.title(\"Unloaded & Large Data\")\n",
    "plt.fill_between(x_2,z1_2,z2_2)\n",
    "\n",
    "plt.savefig(\"./q6_CI.png\", dpi=1200)\n",
    "plt.show()\n"
   ]
  },
  {
   "cell_type": "code",
   "execution_count": null,
   "metadata": {},
   "outputs": [],
   "source": []
  }
 ],
 "metadata": {
  "kernelspec": {
   "display_name": "Python 3",
   "language": "python",
   "name": "python3"
  },
  "language_info": {
   "codemirror_mode": {
    "name": "ipython",
    "version": 3
   },
   "file_extension": ".py",
   "mimetype": "text/x-python",
   "name": "python",
   "nbconvert_exporter": "python",
   "pygments_lexer": "ipython3",
   "version": "3.8.3"
  }
 },
 "nbformat": 4,
 "nbformat_minor": 4
}
