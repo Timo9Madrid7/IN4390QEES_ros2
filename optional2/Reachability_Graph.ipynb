{
 "cells": [
  {
   "cell_type": "code",
   "execution_count": 1,
   "metadata": {},
   "outputs": [],
   "source": [
    "from graphviz import Digraph\n",
    "import numpy as np\n",
    "\n",
    "def reachability(initialMat):\n",
    "    \"\"\"\n",
    "    Input:\n",
    "        initialMat <- int numpy array with shape (7,): the current state of the petriNet\n",
    "        *The total processor's number should be 4, or it will cause AssertionError\n",
    "    Output:\n",
    "        outputMat <- list of numpy array: for drawing the reachability graph\n",
    "    \"\"\"\n",
    "    \n",
    "    # Incidence Matrix:\n",
    "    incidenceMat = np.array([[0,1,0,0,0,0,0], [0,0,1,0,0,0,0], [0,0,0,1,0,0,0], [-2,-1,0,0,2,0,0], \n",
    "                             [2,0,0,0,-2,0,0], [-1,0,-1,0,0,1,0], [1,0,0,0,0,-1,0], [0,0,0,-1,0,0,0]])\n",
    "    \n",
    "    assert(initialMat[0] + np.sum(initialMat[4:]) == 4)\n",
    "    \n",
    "    u=[['initialMat', np.array2string(initialMat)]]\n",
    "    u1 = initialMat + incidenceMat[0]\n",
    "    u.append(['request service 1', np.array2string(u1)])\n",
    "    u2 = initialMat + incidenceMat[1]\n",
    "    u.append(['request service 2', np.array2string(u2)])\n",
    "    u3 = initialMat + incidenceMat[2]\n",
    "    u.append(['request service 3', np.array2string(u3)])\n",
    "    if initialMat[1] > 0 and initialMat[0] == 2:\n",
    "        u4 = initialMat + incidenceMat[3]\n",
    "        u.append(['noise removal', np.array2string(u4)])\n",
    "    if initialMat[4] == 2:\n",
    "        u5 = initialMat + incidenceMat[4]\n",
    "        u.append(['object detection', np.array2string(u5)])\n",
    "    if initialMat[2] > 0 and initialMat[0] > 0:\n",
    "        u6 = initialMat + incidenceMat[5]\n",
    "        u.append(['scene identification', np.array2string(u6)])\n",
    "    if initialMat[5] > 0:\n",
    "        u7 = initialMat + incidenceMat[6]\n",
    "        u.append(['location recognition', np.array2string(u7)])\n",
    "    if initialMat[3] > 0 and initialMat[0] > 0:\n",
    "        u8 = initialMat + incidenceMat[7]\n",
    "        u.append(['reading database', u8])\n",
    "\n",
    "    return u\n",
    "\n",
    "def drawGraph(u):\n",
    "    \"\"\"\n",
    "    Input:\n",
    "        u <- a list of numpy array with name: the output from reachability(initialMat)\n",
    "    Output:\n",
    "        Reachabiltiy_Graph  <- pdf file: stored at ./figures/\n",
    "    \"\"\"\n",
    "    \n",
    "    petriNet = Digraph(\n",
    "        name='petriNet',\n",
    "        comment='The reachability graph for Q5 - Petri Net',\n",
    "        filename=\"Reachabiltiy_Graph\",\n",
    "        directory=\"./figures\",\n",
    "        format=\"pdf\",\n",
    "        engine=None,\n",
    "        encoding='utf8',\n",
    "        graph_attr={'rankdir':'TB'},\n",
    "        node_attr={'color':'black','fontcolor':'black','fontname':'Microsoft YaHei','fontsize':'12','style':'rounded','shape':'oval'},\n",
    "        edge_attr={'color':'blue','fontcolor':'blue','fontsize':'10','fontname':'Microsoft YaHei'},\n",
    "        body=None,\n",
    "        strict=False\n",
    "    )\n",
    "    \n",
    "    petriNet.node('0', u[0][1])\n",
    "    \n",
    "    for i in range(1, len(u)):\n",
    "        if u[i][0] != 'reading database':\n",
    "            petriNet.node(str(i), u[i][1])\n",
    "            petriNet.edge('0', str(i), u[i][0])\n",
    "        else:\n",
    "            petriNet.edge('0', '0', 'reading database')\n",
    "    \n",
    "    petriNet.view()\n",
    "    petriNet.clear()\n",
    "    print(\"Successfully Generate: at path ~\")\n",
    "    \n",
    "    return './figures/Reachabiltiy_Graph.pdf'"
   ]
  },
  {
   "cell_type": "code",
   "execution_count": 2,
   "metadata": {},
   "outputs": [
    {
     "name": "stdout",
     "output_type": "stream",
     "text": [
      "Successfully Generate: at path ~\n"
     ]
    },
    {
     "data": {
      "text/plain": [
       "'./figures/Reachabiltiy_Graph.pdf'"
      ]
     },
     "execution_count": 2,
     "metadata": {},
     "output_type": "execute_result"
    }
   ],
   "source": [
    "initialMat = np.array([2,5,4,2,0,0,2])\n",
    "u = reachability(initialMat)\n",
    "drawGraph(u)"
   ]
  }
 ],
 "metadata": {
  "kernelspec": {
   "display_name": "Python 3",
   "language": "python",
   "name": "python3"
  },
  "language_info": {
   "codemirror_mode": {
    "name": "ipython",
    "version": 3
   },
   "file_extension": ".py",
   "mimetype": "text/x-python",
   "name": "python",
   "nbconvert_exporter": "python",
   "pygments_lexer": "ipython3",
   "version": "3.7.9"
  },
  "toc": {
   "base_numbering": 1,
   "nav_menu": {},
   "number_sections": true,
   "sideBar": true,
   "skip_h1_title": false,
   "title_cell": "Table of Contents",
   "title_sidebar": "Contents",
   "toc_cell": false,
   "toc_position": {},
   "toc_section_display": true,
   "toc_window_display": false
  },
  "varInspector": {
   "cols": {
    "lenName": 16,
    "lenType": 16,
    "lenVar": 40
   },
   "kernels_config": {
    "python": {
     "delete_cmd_postfix": "",
     "delete_cmd_prefix": "del ",
     "library": "var_list.py",
     "varRefreshCmd": "print(var_dic_list())"
    },
    "r": {
     "delete_cmd_postfix": ") ",
     "delete_cmd_prefix": "rm(",
     "library": "var_list.r",
     "varRefreshCmd": "cat(var_dic_list()) "
    }
   },
   "types_to_exclude": [
    "module",
    "function",
    "builtin_function_or_method",
    "instance",
    "_Feature"
   ],
   "window_display": false
  }
 },
 "nbformat": 4,
 "nbformat_minor": 4
}
